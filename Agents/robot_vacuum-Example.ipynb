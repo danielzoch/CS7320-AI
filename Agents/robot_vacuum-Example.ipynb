{
 "cells": [
  {
   "cell_type": "markdown",
   "metadata": {},
   "source": [
    "Implement a simulator environment for a vacuum-cleaner world and a set of intelligent agents.\n",
    "\n",
    "PEAS description Intelligent Agents: Vacuum-cleaner World\n",
    "\n",
    "Implement a simulator environment for a vacuum-cleaner world and a set of intelligent agents.\n",
    "\n",
    "## PEAS description\n",
    "\n",
    "__Performance Measure:__ Each action costs 1. The performance is measured as the sum of the cost to clean the whole environment.\n",
    "\n",
    "__Environment:__ A room with $n \\times n$ squares where $n = 5$. Dirt is randomly placed on each square with probability $p = 0.2$. For simplicity, you can assume that the agent knows the size of the layout of the room (i.e., it knows n and where it starts).\n",
    "\n",
    "__Actuators:__ The agent can `clean` the current square or move to an adjacent square by going `north`, `east`, `west`, or `south`.\n",
    "\n",
    "__Sensors:__ Four bumper sensors, one for `north`, `east`, `west`, and `south`; a dirt sensor reporting dirt in the current square.  \n",
    "\n",
    "The easiest implementation for the environment is to hold an 2-dimensional array to represent if squares are clean or dirty and to call the agent function in a loop until all squares are clean or a predefined number of steps have been reached.\n",
    "\n",
    "## Define the agent program for a simple randomized agent\n",
    "\n",
    "The agent program is a function that gets sensor information (the current percepts) as the arguments. The arguments are:\n",
    "\n",
    "* A dictonary with boolean entries for the for bumper sensors `north`, `east`, `west`, `south`; not specified bumpers are assumed to be `False`. E.g., if the agent is on the north-west corner, `bumpers` gets `{\"north\" : True, \"west\" : True}` or if the agent is not close to a border then it gets `{}`.\n",
    "* The dirt sensor produces a boolean.\n",
    "\n",
    "The agent returns the chosen action as a string.\n",
    "\n",
    "Here is an example implementation for the agent program of a simple randomized agent:  "
   ]
  },
  {
   "cell_type": "code",
   "execution_count": 9,
   "metadata": {},
   "outputs": [],
   "source": [
    "from numpy import random\n",
    "\n",
    "actions = [\"north\", \"east\", \"west\", \"south\", \"suck\"]\n",
    "\n",
    "\n",
    "def simple_randomized_agent(bumpers, dirty):\n",
    "    return random.choice(actions)"
   ]
  },
  {
   "cell_type": "code",
   "execution_count": 32,
   "metadata": {},
   "outputs": [
    {
     "data": {
      "text/plain": [
       "'west'"
      ]
     },
     "execution_count": 32,
     "metadata": {},
     "output_type": "execute_result"
    }
   ],
   "source": [
    "simple_randomized_agent({\"north\" : True}, True)"
   ]
  },
  {
   "cell_type": "markdown",
   "metadata": {},
   "source": [
    "Run the agent 10 times steps."
   ]
  },
  {
   "cell_type": "code",
   "execution_count": 33,
   "metadata": {},
   "outputs": [
    {
     "name": "stdout",
     "output_type": "stream",
     "text": [
      "suck\n",
      "north\n",
      "north\n",
      "east\n",
      "east\n",
      "east\n",
      "west\n",
      "east\n",
      "north\n",
      "south\n"
     ]
    }
   ],
   "source": [
    "for i in range(10):\n",
    "    print(simple_randomized_agent({}, True))"
   ]
  },
  {
   "cell_type": "markdown",
   "metadata": {},
   "source": [
    "## My helpers"
   ]
  },
  {
   "cell_type": "code",
   "execution_count": 12,
   "metadata": {},
   "outputs": [],
   "source": [
    "import numpy as np\n",
    "import matplotlib.pyplot as plt\n",
    "from matplotlib import colors\n",
    "\n",
    "def show_room(room, pos, fontsize = 24):  \n",
    "    \"\"\"display room and robot\n",
    "    \n",
    "    Parameters\n",
    "    ----------\n",
    "    room : bool 2d array\n",
    "        Dirt locations in the room.\n",
    "    pos : list of 2 int values\n",
    "        x and y location of the robot.\n",
    "    fint_size : int\n",
    "        size of the robot symbol.\n",
    "    \"\"\"\n",
    "    \n",
    "    cmap = colors.ListedColormap(['white', 'gray'])\n",
    "    \n",
    "    room = np.copy(room)    \n",
    "    room = room.astype(np.int64)\n",
    "    \n",
    "    fig, ax = plt.subplots()\n",
    "    ax.imshow(room, cmap = cmap, norm = colors.BoundaryNorm(list(range(cmap.N+1)), cmap.N))\n",
    "    \n",
    "    plt.text(pos[1], pos[0], u\"\\u2B24\", fontsize = fontsize,\n",
    "                 horizontalalignment = 'center', verticalalignment = 'center')\n",
    "    \n",
    "    plt.show()"
   ]
  },
  {
   "cell_type": "code",
   "execution_count": 13,
   "metadata": {},
   "outputs": [
    {
     "data": {
      "image/png": "[encoded data removed]",
      "text/plain": [
       "<Figure size 640x480 with 1 Axes>"
      ]
     },
     "metadata": {},
     "output_type": "display_data"
    }
   ],
   "source": [
    "room = [[False, True, False], \n",
    "    [False, False, True],\n",
    "    [False, False, True]]\n",
    "pos = [1,1]\n",
    "\n",
    "show_room(room, pos)"
   ]
  },
  {
   "cell_type": "markdown",
   "metadata": {},
   "source": [
    "# Tasks\n",
    "\n",
    "\n",
    "## Task 1: Implement a simulation environment\n",
    "\n",
    "Your environment simulator needs to create squares, make some dirty, and provide the agent function with the sensor inputs. The environment needs to evaluate the performance measure. It needs to track the agent's actions until all dirty squares are clean and count the number of actions it takes the agent to complete the task.\n",
    "\n",
    "*Note:* This implementation starts at position 0/0 instead of a random position!\n",
    "\n",
    "The simulation environment needs to work with the simple randomized agent program from above."
   ]
  },
  {
   "cell_type": "code",
   "execution_count": null,
   "metadata": {},
   "outputs": [],
   "source": [
    "import numpy as np\n",
    "\n",
    "def vacuum_environment(agent, n = 5, p = .2, maxsteps = 10000, verb = True):  \n",
    "    \n",
    "    # initialize room\n",
    "    room = np.random.choice(a=[True, False], size=(n, n), p=[p, 1-p]) \n",
    "    to_clean = np.sum(room)\n",
    "    if verb: \n",
    "        print(f\"room with {to_clean} dirty squares:\\n{room}\")\n",
    "    \n",
    "    # initialize position (could be random)\n",
    "    pos = [0, 0] # north/west corner\n",
    "    \n",
    "    if verb: \n",
    "        print(\"\\nstart simulation\")\n",
    "    for step in range(1, maxsteps+1):\n",
    "       \n",
    "        # prepare percepts\n",
    "        bumpers = {\n",
    "            \"north\": pos[0] == 0,\n",
    "            \"south\": pos[0] == n-1,\n",
    "            \"west\" : pos[1] == 0,\n",
    "            \"east\" : pos[1] == n-1\n",
    "                  }\n",
    "        dirty = room[pos[0], pos[1]]\n",
    "        \n",
    "        if verb: \n",
    "            print('-' * 50, \"\\n\")\n",
    "            print(f\"step: {step}\")\n",
    "            show_room(room, pos) \n",
    "            print(f\"current position: {pos}\")\n",
    "            print(f\"percepts: bumpers={bumpers}, dirty={dirty}\")\n",
    "            \n",
    "        # call agent program\n",
    "        action = agent(bumpers, dirty)\n",
    "        if verb: \n",
    "            print(\"agent's action: \", action)\n",
    "        \n",
    "        # apply action to the environment\n",
    "        if action == \"north\" and pos[0]>0:     pos[0] = pos[0]-1\n",
    "        if action == \"south\" and pos[0]<(n-1): pos[0] = pos[0]+1  \n",
    "        if action == \"west\"  and pos[1]>0:     pos[1] = pos[1]-1\n",
    "        if action == \"east\"  and pos[1]<(n-1): pos[1] = pos[1]+1\n",
    "        if action == \"suck\":                   room[pos[0], pos[1]] = False\n",
    "        \n",
    "        # check for goal state and return performance measure\n",
    "        to_clean = np.sum(room)\n",
    "        if verb: \n",
    "            print(f\"dirty squares left: {to_clean}\")\n",
    "            \n",
    "        if to_clean < 1: \n",
    "            break\n",
    "            \n",
    "    # number of steps is the performance measure (step starts at 0 not 1)\n",
    "    return step\n",
    "            \n",
    "vacuum_environment(simple_randomized_agent, maxsteps = 10)"
   ]
  },
  {
   "cell_type": "code",
   "execution_count": 15,
   "metadata": {},
   "outputs": [
    {
     "data": {
      "text/plain": [
       "750"
      ]
     },
     "execution_count": 15,
     "metadata": {},
     "output_type": "execute_result"
    }
   ],
   "source": [
    "vacuum_environment(simple_randomized_agent, verb = False)"
   ]
  },
  {
   "cell_type": "markdown",
   "metadata": {},
   "source": [
    "I run 100 simulation runs, calculate the average number of steps and plot a histogram."
   ]
  },
  {
   "cell_type": "code",
   "execution_count": null,
   "metadata": {},
   "outputs": [],
   "source": [
    "np.random.seed(1234)\n",
    "\n",
    "N = 100 # simulation runs\n",
    "\n",
    "steps = [ vacuum_environment(simple_randomized_agent, verb = False) for _ in range(N) ]\n",
    "\n",
    "print(\"steps for first 10 runs:\", steps[0:10])\n",
    "print(\"mean steps:\", np.mean(steps))\n",
    "\n",
    "import matplotlib.pyplot as plt\n",
    "plt.hist(steps, bins = 10)\n",
    "plt.xlabel(\"steps\")\n",
    "plt.ylabel(\"frequency\")\n",
    "plt.show()"
   ]
  },
  {
   "cell_type": "markdown",
   "metadata": {},
   "source": [
    "I have realized that the robot often drives over dirty squares, but does not clean them be cause the cahnve for sucking is low. I wonder if I can improve the performance by increasing the probability of sucking. I experimented with different probabilities. Note: a line search for the probability would be helpful to find the best value."
   ]
  },
  {
   "cell_type": "code",
   "execution_count": 9,
   "metadata": {},
   "outputs": [],
   "source": [
    "def simple_randomized_agent_sucker(bumpers, dirty):\n",
    "    p_suck = .4\n",
    "    \n",
    "    return random.choice(actions, p = [(1-p_suck)/4, (1-p_suck)/4, (1-p_suck)/4, (1-p_suck)/4, p_suck])"
   ]
  },
  {
   "cell_type": "code",
   "execution_count": 10,
   "metadata": {},
   "outputs": [
    {
     "name": "stdout",
     "output_type": "stream",
     "text": [
      "mean steps: 328.11\n"
     ]
    },
    {
     "data": {
      "image/png": "[encoded data removed]",
      "text/plain": [
       "<Figure size 432x288 with 1 Axes>"
      ]
     },
     "metadata": {
      "needs_background": "light"
     },
     "output_type": "display_data"
    }
   ],
   "source": [
    "np.random.seed(1234)\n",
    "\n",
    "steps = [ vacuum_environment(simple_randomized_agent_sucker, verb = False) for _ in range(N) ]\n",
    "\n",
    "print(\"mean steps:\", np.mean(steps))\n",
    "\n",
    "plt.hist(steps, bins = 10)\n",
    "plt.xlabel(\"steps\")\n",
    "plt.ylabel(\"frequency\")\n",
    "plt.show()"
   ]
  },
  {
   "cell_type": "markdown",
   "metadata": {},
   "source": [
    "## Task 2:  Implement a simple reflex agent\n",
    "\n",
    "The simple reflex agent randomly walks around but reacts to the bumper sensor by not bumping into the wall and to dirt with sucking."
   ]
  },
  {
   "cell_type": "code",
   "execution_count": null,
   "metadata": {},
   "outputs": [],
   "source": [
    "def simple_reflex_agent(bumpers, dirty):\n",
    "    if(dirty) : return(\"suck\")\n",
    "    \n",
    "    directions = [direction for (direction, blocked) in bumpers.items() if not blocked]\n",
    "    return random.choice(directions)\n",
    "\n",
    "vacuum_environment(simple_reflex_agent, maxsteps = 10)"
   ]
  },
  {
   "cell_type": "code",
   "execution_count": 12,
   "metadata": {
    "tags": []
   },
   "outputs": [
    {
     "name": "stdout",
     "output_type": "stream",
     "text": [
      "steps for first 10 runs: [49, 106, 134, 76, 77, 82, 95, 110, 66, 187]\n",
      "mean steps: 97.48\n"
     ]
    },
    {
     "data": {
      "image/png": "[encoded data removed]",
      "text/plain": [
       "<Figure size 432x288 with 1 Axes>"
      ]
     },
     "metadata": {
      "needs_background": "light"
     },
     "output_type": "display_data"
    }
   ],
   "source": [
    "np.random.seed(1234)\n",
    "\n",
    "N = 100 # simulation runs\n",
    "\n",
    "steps = [ vacuum_environment(simple_reflex_agent, verb = False) for _ in range(N) ]\n",
    "\n",
    "print(\"steps for first 10 runs:\", steps[0:10])\n",
    "print(\"mean steps:\", np.mean(steps))\n",
    "\n",
    "import matplotlib.pyplot as plt\n",
    "plt.hist(steps, bins = 10)\n",
    "plt.xlabel(\"steps\")\n",
    "plt.ylabel(\"frequency\")\n",
    "plt.show()"
   ]
  },
  {
   "cell_type": "markdown",
   "metadata": {},
   "source": [
    "Conclusion: Reflexes improve the randomized agent by reducing the needed number of steps by on average 1/4."
   ]
  },
  {
   "cell_type": "markdown",
   "metadata": {},
   "source": [
    "## Task 3: Implement a model-based reflex agent \n",
    "\n",
    "This agent keeps track of the location and remembers where it has cleaned. It can use more advanced navigation."
   ]
  },
  {
   "cell_type": "markdown",
   "metadata": {},
   "source": [
    "**Simple depth-first implementation:**\n",
    "\n",
    "The implementation explores the environment by \n",
    "1. keeping track of the current position and already visited squares.\n",
    "2. Non-visited squares adjacent to the current position are aded to the fronter. \n",
    "3. It takes the most recently added square from the frontier stack and goes there. \n",
    "\n",
    "Notes: \n",
    "* I have not implemented navigating to the top-left corner.\n",
    "* This **does not work with obstacles** and would need a search algorithm to find a path to a non-adjacent square!"
   ]
  },
  {
   "cell_type": "code",
   "execution_count": 13,
   "metadata": {},
   "outputs": [],
   "source": [
    "class Model_based_reflex_agent:\n",
    "    def __init__(self):\n",
    "        # these variables form the agent's state\n",
    "        self.frontier = list()\n",
    "        self.visited = list()\n",
    "        self.pos = [0,0]\n",
    "\n",
    "    def act(self, bumpers, dirty):\n",
    "        nav = { \"north\": [-1,0], \"east\": [0,1], \"south\": [1,0], \"west\": [0,-1] }\n",
    "        directions = [\"north\", \"east\", \"south\", \"west\"]\n",
    "        #directions = [\"west\", \"south\", \"east\", \"north\"]\n",
    "    \n",
    "        current_pos = self.pos\n",
    "        self.visited.append(tuple(current_pos))\n",
    "        if tuple(current_pos) in self.frontier: \n",
    "            self.frontier.remove(tuple(current_pos))\n",
    "     \n",
    "        print(\"Agent state:\")\n",
    "        print(f\"  pos: {self.pos}\")\n",
    "        print(f\"  visited: {self.visited}\")\n",
    "        print(f\"  old frontier: {self.frontier}\")\n",
    "\n",
    "    \n",
    "        if dirty: \n",
    "            return(\"suck\")\n",
    "        \n",
    "        # expand frontier (note that I do not check if a position is already in the frontier. I deal with that above.)\n",
    "        for direction in directions:\n",
    "            new_pos = tuple(np.add(current_pos, nav[direction]))\n",
    "            if not bumpers[direction] and not new_pos in self.visited:\n",
    "                self.frontier.append(new_pos)\n",
    "    \n",
    "        print(f\"  expanded frontier: {self.frontier}\")\n",
    "    \n",
    "        # go to the square added to the frontier last (LIFO). **This square is adjacent if there are not obstacles.**\n",
    "        goto_pos = self.frontier[-1]\n",
    "        self.pos = goto_pos \n",
    "    \n",
    "        print(f\"  I want to go to: {goto_pos}\")\n",
    "    \n",
    "        if goto_pos[0] < current_pos[0]: return(\"north\")\n",
    "        if goto_pos[0] > current_pos[0]: return(\"south\")\n",
    "        if goto_pos[1] > current_pos[1]: return(\"east\")\n",
    "        if goto_pos[1] < current_pos[1]: return(\"west\")\n",
    "    \n",
    "        # this should not happen!\n",
    "        return(\"error\")    "
   ]
  },
  {
   "cell_type": "code",
   "execution_count": null,
   "metadata": {},
   "outputs": [],
   "source": [
    "my_model_based_reflex_agent = Model_based_reflex_agent()\n",
    "vacuum_environment(my_model_based_reflex_agent.act, n = 5, verb = True, maxsteps = 1000)"
   ]
  },
  {
   "cell_type": "markdown",
   "metadata": {},
   "source": [
    "## Task 4: Simulation study\n",
    "\n",
    "Compare the performance of the agents using different size environments. E.g., $5 \\times 5$, $10 \\times 10$ and\n",
    "$100 \\times 100$. Use at least 100 random runs for each."
   ]
  },
  {
   "cell_type": "code",
   "execution_count": 15,
   "metadata": {},
   "outputs": [],
   "source": [
    "def sim_runs(n, agent, N = 100):\n",
    "    return [ vacuum_environment(agent, n = n, verb = False) for _ in range(N) ]"
   ]
  },
  {
   "cell_type": "code",
   "execution_count": 16,
   "metadata": {},
   "outputs": [
    {
     "data": {
      "text/plain": [
       "97.48"
      ]
     },
     "execution_count": 16,
     "metadata": {},
     "output_type": "execute_result"
    }
   ],
   "source": [
    "np.random.seed(1234)\n",
    "\n",
    "runs = sim_runs(5, simple_reflex_agent)\n",
    "np.mean(runs)"
   ]
  },
  {
   "cell_type": "code",
   "execution_count": 17,
   "metadata": {},
   "outputs": [
    {
     "data": {
      "image/png": "[encoded data removed]",
      "text/plain": [
       "<Figure size 432x288 with 1 Axes>"
      ]
     },
     "metadata": {
      "needs_background": "light"
     },
     "output_type": "display_data"
    }
   ],
   "source": [
    "import matplotlib.pyplot as plt\n",
    "\n",
    "plt.hist(runs)\n",
    "plt.xlabel(\"Performance of agent 1\")\n",
    "plt.ylabel(\"Frequency\")\n",
    "plt.show()"
   ]
  },
  {
   "cell_type": "markdown",
   "metadata": {},
   "source": [
    "__Note:__ The environment would need to reset the state of the model based agent every time we start new! I guess we could do this with an additional percept representing a reset button."
   ]
  },
  {
   "cell_type": "code",
   "execution_count": 18,
   "metadata": {},
   "outputs": [
    {
     "data": {
      "text/plain": [
       "array([   3,   16,   43,  103,  197,  280,  431,  628,  820, 1175, 1432,\n",
       "       1819, 2202, 2811])"
      ]
     },
     "execution_count": 18,
     "metadata": {},
     "output_type": "execute_result"
    }
   ],
   "source": [
    "np.random.seed(1234)\n",
    "    \n",
    "ns = [2, 3, 4, 5, 6, 7, 8, 9, 10, 11, 12, 13, 14, 15]\n",
    "steps = np.repeat(0, len(ns))\n",
    "for i in range(len(ns)):    \n",
    "    steps[i] = np.mean(sim_runs(ns[i], simple_reflex_agent))\n",
    "\n",
    "steps"
   ]
  },
  {
   "cell_type": "code",
   "execution_count": 19,
   "metadata": {},
   "outputs": [
    {
     "data": {
      "image/png": "[encoded data removed]",
      "text/plain": [
       "<Figure size 432x288 with 1 Axes>"
      ]
     },
     "metadata": {
      "needs_background": "light"
     },
     "output_type": "display_data"
    }
   ],
   "source": [
    "plt.plot(ns, steps)\n",
    "plt.xlabel(\"Room size n\")\n",
    "plt.ylabel(\"Avg. number of steps\")\n",
    "plt.show()"
   ]
  },
  {
   "cell_type": "code",
   "execution_count": 20,
   "metadata": {},
   "outputs": [
    {
     "data": {
      "image/png": "[encoded data removed]",
      "text/plain": [
       "<Figure size 432x288 with 1 Axes>"
      ]
     },
     "metadata": {
      "needs_background": "light"
     },
     "output_type": "display_data"
    }
   ],
   "source": [
    "ns2 = np.square(ns)\n",
    "\n",
    "plt.plot(ns2, steps)\n",
    "plt.xlabel(\"Room size n^2\")\n",
    "plt.ylabel(\"Avg. number of steps\")\n",
    "plt.show()"
   ]
  },
  {
   "cell_type": "code",
   "execution_count": 21,
   "metadata": {
    "scrolled": true
   },
   "outputs": [
    {
     "data": {
      "image/png": "[encoded data removed]",
      "text/plain": [
       "<Figure size 432x288 with 1 Axes>"
      ]
     },
     "metadata": {
      "needs_background": "light"
     },
     "output_type": "display_data"
    }
   ],
   "source": [
    "plt.scatter(ns2, steps)\n",
    "plt.xlabel(\"Room size n^2\")\n",
    "plt.ylabel(\"Avg. number of steps\")\n",
    "\n",
    "from scipy import stats\n",
    "\n",
    "#regression part\n",
    "slope, intercept, r_value, p_value, std_err = stats.linregress(ns2,steps)\n",
    "\n",
    "line = slope*ns2+intercept\n",
    "plt.plot(ns2, line, 'r', label='y={:.2f}x+{:.2f}'.format(slope,intercept))\n",
    "#end\n",
    "\n",
    "plt.show()"
   ]
  },
  {
   "cell_type": "markdown",
   "metadata": {},
   "source": [
    "## Bonus tasks\n",
    "\n",
    "* __Obstacles:__ Add random obstacle squares that also trigger the bumper sensor. The agent does not know where the obstacles are. How does this change the performance?\n",
    "* __Unknown environment with obstacles:__ The agent does not know how large the environment is, where it starts or where the obstacles are.\n",
    "* __Utility-based agent:__ Change the environment, so each square has a fixed probability of getting dirty again. Give this information to the agent (as a 2-dimensional array of probabilities). Cleaning one dirty square produces the utility of 1. Implement a utility-based agent that maximizes the expected utility over a time horizon of 10000 time steps. This is very tricky!"
   ]
  },
  {
   "cell_type": "code",
   "execution_count": 22,
   "metadata": {},
   "outputs": [],
   "source": [
    "# Your code goes here"
   ]
  }
 ],
 "metadata": {
  "kernelspec": {
   "display_name": "Python 3 (ipykernel)",
   "language": "python",
   "name": "python3"
  },
  "language_info": {
   "codemirror_mode": {
    "name": "ipython",
    "version": 3
   },
   "file_extension": ".py",
   "mimetype": "text/x-python",
   "name": "python",
   "nbconvert_exporter": "python",
   "pygments_lexer": "ipython3",
   "version": "3.10.11"
  }
 },
 "nbformat": 4,
 "nbformat_minor": 4
}
