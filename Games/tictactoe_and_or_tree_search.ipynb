{
 "cells": [
  {
   "cell_type": "markdown",
   "metadata": {},
   "source": [
    "# Nondeterministic Actions: Solving Tic-Tac-Toe with AND-OR-Tree Search"
   ]
  },
  {
   "cell_type": "markdown",
   "metadata": {},
   "source": [
    "## Introduction \n",
    " \n",
    "Multiplayer games can be implemented as:\n",
    "1. __Nondeterministic actions:__ The opponent is seen as part of an environment with nondeterministic actions. Non-determinism is the result of the unknown opponent's moves. \n",
    "2. Optimal Decisions: Minimax search (search complete game tree) and alpha-beta pruning.\n",
    "3. Heuristic Alpha-Beta Tree Search: Cut off tree search and use heuristic to estimate state value. \n",
    "4. Monte Carlo Tree search: Simulate playouts to estimate state value. \n",
    "\n",
    "Here we will implement search for Tic-Tac-Toe (see [rules](https://en.wikipedia.org/wiki/Tic-tac-toe)).\n",
    "\n",
    "We will implement\n",
    "* __AND-OR-Tree search.__\n",
    "\n",
    "Each action consists of the move by the player (OR levels in the tree) and all possible (i.e., nondeterministic) responses by the opponents (AND levels). The action therefore results in a set of possible states.\n",
    "\n",
    "We will search for a __conditional plan__ using AND-OR-Tree search. "
   ]
  },
  {
   "cell_type": "markdown",
   "metadata": {},
   "source": [
    "## The Search Problem\n",
    "\n",
    "* **Initial State:** Empty $3 \\times 3$ board. It is the move for $x$.\n",
    "* **Actions:** Place your symbol on any empty square.\n",
    "* **Transition function:** You symbol is placed on the board according to the action. The opponent\n",
    "    places her symbol. From our viewpoint this makes the environment non-deterministic.\n",
    "* **Goal state:** A win (three symbols in a row, column or diagonal). \n",
    "* **Path cost:** number of moves.\n",
    "  \n",
    "\n",
    "**Notes:**\n",
    "\n",
    "* Since this is a game, we will see that instead of the goal state we will use a test for a **terminal state** (game is over) and a **utility function** (win or loose). \n",
    "\n",
    "* We will use DFS which is not optimal. So will probably not find the solution with the lowest path cost, i.e., win with the smallest number of moves."
   ]
  },
  {
   "cell_type": "markdown",
   "metadata": {},
   "source": [
    "## Problem Size\n",
    "\n",
    "### State Space Estimates\n",
    "\n",
    "Each state is a possible board. Each of the 9 squares can have 3 values (empty, x and o), but some boards are impossible (where a player has several sequences of 3).The number of states in the state space graph is less than $3^9$."
   ]
  },
  {
   "cell_type": "code",
   "execution_count": 8,
   "metadata": {},
   "outputs": [
    {
     "data": {
      "text/plain": [
       "19683"
      ]
     },
     "execution_count": 8,
     "metadata": {},
     "output_type": "execute_result"
    }
   ],
   "source": [
    "3**9"
   ]
  },
  {
   "cell_type": "markdown",
   "metadata": {},
   "source": [
    "A tighter bound for the search space size would be looking at all the ways we can choose $i = 1,2,3,...,9$ places from the board given by ${9 \\choose i}$. Now we need to find all ways how we can choose half the symbols for player o which is given by ${i \\choose \\lfloor \\frac{i}{2} \\rfloor}$. \n",
    "Put together we get $\\sum_{i=1}^9{{9 \\choose i}{i \\choose \\lfloor \\frac{i}{2} \\rfloor}}$."
   ]
  },
  {
   "cell_type": "code",
   "execution_count": 9,
   "metadata": {},
   "outputs": [
    {
     "name": "stdout",
     "output_type": "stream",
     "text": [
      "level\tboards\n",
      "1 \t 9  x  1  =  9\n",
      "2 \t 36  x  2  =  72\n",
      "3 \t 84  x  3  =  252\n",
      "4 \t 126  x  6  =  756\n",
      "5 \t 126  x  10  =  1260\n",
      "6 \t 84  x  20  =  1680\n",
      "7 \t 36  x  35  =  1260\n",
      "8 \t 9  x  70  =  630\n"
     ]
    },
    {
     "data": {
      "text/plain": [
       "5919"
      ]
     },
     "execution_count": 9,
     "metadata": {},
     "output_type": "execute_result"
    }
   ],
   "source": [
    "import math\n",
    "\n",
    "print(\"level\\tboards\")\n",
    "sum = 0\n",
    "\n",
    "for i in range(1,9):\n",
    "    sum += math.comb(9, i) * math.comb(i, math.floor(i/2))\n",
    "    print(i, \"\\t\", math.comb(9, i) , \" x \", math.comb(i, math.floor(i/2)) , \" = \",  math.comb(9, i) * math.comb(i, math.floor(i/2)))\n",
    "\n",
    "sum"
   ]
  },
  {
   "cell_type": "markdown",
   "metadata": {},
   "source": [
    "This is an upper bound since it contains some infeasible boards where both players have 3 in a row."
   ]
  },
  {
   "cell_type": "markdown",
   "metadata": {},
   "source": [
    "### Space and Time Complexity Using the Search Tree Estimates\n",
    "\n",
    "For solving the problem, we use the search tree which can be significantly larger than the state space.\n",
    "A search tree is a subgraph with all **cycles removed.** The standard implementation of DFS **cannot remove redundant paths** (i.e., getting to the same board by plcing symbols in a different order). Therefore, a state can be represented by several nodes in different branches! We observe the following:\n",
    "\n",
    "* The complete search tree has a maximal depth $m=9$\n",
    "* The max branching factor $b=9$ (for first move).\n",
    "\n",
    "DFS has\n",
    "\n",
    "* a space complexity of $O(bm)$ (current path plus frontier) and \n",
    "* a time complecity of $O(b^m)$ (number of expanded nodes)."
   ]
  },
  {
   "cell_type": "code",
   "execution_count": 10,
   "metadata": {},
   "outputs": [
    {
     "data": {
      "text/plain": [
       "81"
      ]
     },
     "execution_count": 10,
     "metadata": {},
     "output_type": "execute_result"
    }
   ],
   "source": [
    "# Space Complexity O(bm):\n",
    "9*9"
   ]
  },
  {
   "cell_type": "code",
   "execution_count": 11,
   "metadata": {
    "tags": []
   },
   "outputs": [
    {
     "data": {
      "text/plain": [
       "387420489"
      ]
     },
     "execution_count": 11,
     "metadata": {},
     "output_type": "execute_result"
    }
   ],
   "source": [
    "# Time Complexity O(b^m): \n",
    "9**9"
   ]
  },
  {
   "cell_type": "markdown",
   "metadata": {},
   "source": [
    "The branching factor decreases after each move. The first level has a branching factor of 9, the second a branching factor of 8, etc. The total number of nodes is:\n",
    "\n",
    "| <div style=\"width:100px\">Level</div>      |  <div style=\"width:200px\"># of nodes</div>   |\n",
    "| :------------- | :---------------- |\n",
    "| root       | $1$ |\n",
    "| level 1    | $9 = 9!/8!$ |\n",
    "| level 2    | $9 \\times 8 = 9!/7!$ |\n",
    "| level 2    | $9 \\times 8 \\times 7 = 9!/6!$ |\n",
    "| ...        |  ... |\n",
    "| level 9    | $9 \\times 8 \\times \\dots \\times 2 \\times 1 = 9!$ |\n",
    "\n",
    "The total number of game tree nodes is less (some games end early) than the sum of the nodes above. The upper bound for the number of nodes is\n",
    "\n",
    "$\\sum_{i = 0}^9 \\frac{9!}{i!}$"
   ]
  },
  {
   "cell_type": "code",
   "execution_count": 12,
   "metadata": {},
   "outputs": [
    {
     "name": "stdout",
     "output_type": "stream",
     "text": [
      "level\t# nodes\n",
      "root\t 1\n",
      "1 \t 9\n",
      "2 \t 72\n",
      "3 \t 504\n",
      "4 \t 3024\n",
      "5 \t 15120\n",
      "6 \t 60480\n",
      "7 \t 181440\n",
      "8 \t 362880\n",
      "9 \t 362880\n"
     ]
    },
    {
     "data": {
      "text/plain": [
       "986410"
      ]
     },
     "execution_count": 12,
     "metadata": {},
     "output_type": "execute_result"
    }
   ],
   "source": [
    "sum = 1\n",
    "partial_fac = 1\n",
    "print(\"level\\t# nodes\")\n",
    "print(\"root\\t 1\")\n",
    "\n",
    "for i in range(9, 0, -1):\n",
    "    partial_fac *= i\n",
    "    sum += partial_fac \n",
    "    print(10-i, \"\\t\", partial_fac)\n",
    "    \n",
    "sum"
   ]
  },
  {
   "cell_type": "markdown",
   "metadata": {},
   "source": [
    "Since some sequences are cut short because of a win, we expect fewer nodes in the game complete tree.\n",
    "\n",
    "**Redundant paths:** The tree size estimation contains redundant paths.\n",
    "\n",
    "**Cycles:** Tic-tac-toe does not have cycles (you cannot remove a played symbol).\n"
   ]
  },
  {
   "cell_type": "markdown",
   "metadata": {},
   "source": [
    "__Note:__ This size makes tic-tac-toe a very small problem that can be easily solved by tree search. Most games and real problems are too large and cannot be solved this way. For example, chess has an estimated state space size of $>10^{30}$. \n",
    "We will learn several methods that address this problem later."
   ]
  },
  {
   "cell_type": "markdown",
   "metadata": {},
   "source": [
    "## The board\n",
    "\n",
    "I represent the board as a vector (in Python this is a list) of length 9. The values are `' ', 'x', 'o'`."
   ]
  },
  {
   "cell_type": "code",
   "execution_count": 13,
   "metadata": {},
   "outputs": [
    {
     "data": {
      "text/plain": [
       "['x', 'o', ' ', 'x', 'o', ' ', 'x', ' ', ' ']"
      ]
     },
     "metadata": {},
     "output_type": "display_data"
    }
   ],
   "source": [
    "def empty_board():\n",
    "    return [' '] * 9\n",
    "\n",
    "board = empty_board()\n",
    "board[0] = 'x'; board[3] = 'x'; board[6] = 'x'; board[1] = 'o'; board[4] = 'o'  \n",
    "display(board)"
   ]
  },
  {
   "cell_type": "markdown",
   "metadata": {},
   "source": [
    "### Helper functions\n",
    "\n",
    "Show the board."
   ]
  },
  {
   "cell_type": "code",
   "execution_count": 14,
   "metadata": {},
   "outputs": [
    {
     "data": {
      "image/png": "[encoded data removed]",
      "text/plain": [
       "<Figure size 192x192 with 1 Axes>"
      ]
     },
     "metadata": {
      "image/png": {
       "height": 156,
       "width": 156
      }
     },
     "output_type": "display_data"
    }
   ],
   "source": [
    "%matplotlib inline\n",
    "%config InlineBackend.figure_format = 'retina'\n",
    "# use higher resolution images in notebook\n",
    "\n",
    "import numpy as np\n",
    "import matplotlib.pyplot as plt\n",
    "from matplotlib.colors import ListedColormap\n",
    "\n",
    "\n",
    "def show_board(board, help = True, dpi = 40, colors = {' ': 'white', 'x': 'red', 'o': 'black'}):\n",
    "    \"\"\"Show the tic-tac-toe-board. help adds the array index, dpi changes the sice and \n",
    "    colors sets the colors\"\"\"\n",
    "    \n",
    "    # convert the vector representation into a 2-D numpy array (a matrix) for easier indexing\n",
    "    b = np.array(board).reshape((3,3))\n",
    "\n",
    "    with plt.rc_context({'figure.dpi': dpi}):\n",
    "        fig = plt.matshow(np.zeros((3, 3)), cmap = ListedColormap(['w']))\n",
    "    fig.axes.axis('off')\n",
    "    \n",
    "    # display grid\n",
    "    plt.hlines([.5, 1.5], -.5, 2.5)\n",
    "    plt.vlines([.5, 1.5], -.5, 2.5)\n",
    "\n",
    "    # place xs and os\n",
    "    for row in range(3):\n",
    "        for col in range(3):\n",
    "            plt.text(row, col, b[col, row], \n",
    "                 fontsize = 64, \n",
    "                 color = colors[b[col, row]],\n",
    "                 horizontalalignment = 'center',\n",
    "                 verticalalignment = 'center')\n",
    "        \n",
    "    # show index numbers\n",
    "    if help:\n",
    "        for row in range(3):\n",
    "            for col in range(3):\n",
    "                plt.text(col, row - .35, col + 3 * row, \n",
    "                     fontsize = 12, \n",
    "                     color = 'gray',\n",
    "                     horizontalalignment = 'center',\n",
    "                     verticalalignment = 'center')\n",
    "        \n",
    "        \n",
    "    plt.show()\n",
    "    \n",
    "show_board(board)"
   ]
  },
  {
   "cell_type": "markdown",
   "metadata": {},
   "source": [
    "First, I implement code to check if the game is over and, if so, who won."
   ]
  },
  {
   "cell_type": "code",
   "execution_count": 15,
   "metadata": {},
   "outputs": [
    {
     "data": {
      "image/png": "[encoded data removed]",
      "text/plain": [
       "<Figure size 192x192 with 1 Axes>"
      ]
     },
     "metadata": {
      "image/png": {
       "height": 156,
       "width": 156
      }
     },
     "output_type": "display_data"
    },
    {
     "name": "stdout",
     "output_type": "stream",
     "text": [
      "Win? x\n",
      "\n"
     ]
    },
    {
     "data": {
      "image/png": "[encoded data removed]",
      "text/plain": [
       "<Figure size 192x192 with 1 Axes>"
      ]
     },
     "metadata": {
      "image/png": {
       "height": 156,
       "width": 156
      }
     },
     "output_type": "display_data"
    },
    {
     "name": "stdout",
     "output_type": "stream",
     "text": [
      "Win? n\n"
     ]
    }
   ],
   "source": [
    "def check_board(board):\n",
    "    \"\"\"check the board and return one of x, o, d (draw), or n (for next move)\"\"\"\n",
    "\n",
    "    board = np.array(board).reshape((3,3))\n",
    "   \n",
    "    diagonals = np.array([[board[i][i] for i in range(len(board))], \n",
    "                          [board[i][len(board)-i-1] for i in range(len(board))]])\n",
    "    \n",
    "    for a_board in [board, np.transpose(board), diagonals]:\n",
    "        for row in a_board:\n",
    "            if len(set(row)) == 1 and row[0] != ' ':\n",
    "                return row[0]\n",
    "\n",
    "    # check for draw\n",
    "    if(np.sum(board == ' ') < 1):\n",
    "        return 'd'\n",
    "    \n",
    "    return 'n'\n",
    "\n",
    "show_board(board)\n",
    "print('Win? ' + check_board(board))\n",
    "\n",
    "print()\n",
    "show_board(empty_board())\n",
    "print('Win? ' + check_board(empty_board()))"
   ]
  },
  {
   "cell_type": "markdown",
   "metadata": {},
   "source": [
    "What are the possible actions given the current board?"
   ]
  },
  {
   "cell_type": "markdown",
   "metadata": {},
   "source": [
    "What is the new state after adding a token (an action without considering the other player). "
   ]
  },
  {
   "cell_type": "code",
   "execution_count": 16,
   "metadata": {
    "tags": []
   },
   "outputs": [
    {
     "data": {
      "image/png": "[encoded data removed]",
      "text/plain": [
       "<Figure size 192x192 with 1 Axes>"
      ]
     },
     "metadata": {
      "image/png": {
       "height": 156,
       "width": 156
      }
     },
     "output_type": "display_data"
    },
    {
     "name": "stdout",
     "output_type": "stream",
     "text": [
      "\n",
      "New state after placing an x at position 4:\n"
     ]
    },
    {
     "data": {
      "image/png": "[encoded data removed]",
      "text/plain": [
       "<Figure size 192x192 with 1 Axes>"
      ]
     },
     "metadata": {
      "image/png": {
       "height": 156,
       "width": 156
      }
     },
     "output_type": "display_data"
    }
   ],
   "source": [
    "def result(state, player, action):\n",
    "    \"\"\"Add move to the board.\"\"\"\n",
    "    \n",
    "    if(state[action] != ' '):\n",
    "        print(\"Error: Illegal move!\")\n",
    "        \n",
    "    # making a deep copy is very important so you do not overwrite other \n",
    "    # states in your search tree. \n",
    "    state = state.copy()\n",
    "    \n",
    "    # Note: x.copy() makes a deep copy of a Python list. For a numpy array/matrix you \n",
    "    #       need to use numpy.copy() instead!\n",
    "    \n",
    "    state[action] = player\n",
    "  \n",
    "    return state\n",
    "\n",
    "show_board(empty_board())\n",
    "\n",
    "print()\n",
    "print(\"New state after placing an x at position 4:\")\n",
    "show_board(result(empty_board(), 'x', 4))"
   ]
  },
  {
   "cell_type": "markdown",
   "metadata": {
    "tags": []
   },
   "source": [
    "## Solving Tic-Tac-Toe using AND-OR-Tree Search\n",
    "\n",
    "See AIMA page 125 or the slides. The algorithm uses the following functions:\n",
    "\n",
    "* `is_goal(state)`: determine if the current board/state has a winner.\n",
    "* `is_cycle(path)`: determine if we are in a loop (the tic-tac-toe problem has no loops so I do not implement it).\n",
    "* `actions(state)`: returns the set of actions for a state.\n",
    "* `results(state, action)`: returns all states following state + action.\n",
    "\n",
    "Modifications to the algorithm in the textbook:\n",
    "\n",
    "* The path is used for loop checking. I have removed tracking the path since tic-tac-toe does not have loops.\n",
    "* Goal: \n",
    "    - End search (prune subtree) when player loses. \n",
    "    - Check for loss also in the \"AND\" phase.\n",
    "    - Draw can be set as a goal state or a loss. Since DSF finds the first solution, it might be a draw while there is still a \n",
    "      solution where the player could win. Considering draw a loss will prune the \"draw\" solutions and leave only the \"wins,\" if any."
   ]
  },
  {
   "cell_type": "markdown",
   "metadata": {},
   "source": [
    "### Available Actions"
   ]
  },
  {
   "cell_type": "code",
   "execution_count": 17,
   "metadata": {},
   "outputs": [
    {
     "data": {
      "image/png": "[encoded data removed]",
      "text/plain": [
       "<Figure size 192x192 with 1 Axes>"
      ]
     },
     "metadata": {
      "image/png": {
       "height": 156,
       "width": 156
      }
     },
     "output_type": "display_data"
    },
    {
     "data": {
      "text/plain": [
       "[2, 5, 7, 8]"
      ]
     },
     "execution_count": 17,
     "metadata": {},
     "output_type": "execute_result"
    }
   ],
   "source": [
    "def actions(state):\n",
    "    \"\"\"return possible actions as a vector of indices\"\"\"\n",
    "    return np.where(np.array(state) == ' ')[0].tolist()\n",
    "\n",
    "show_board(board)\n",
    "actions(board)"
   ]
  },
  {
   "cell_type": "markdown",
   "metadata": {},
   "source": [
    "### Non-deterministic Results\n",
    "\n",
    "Since the opponent and her moves are part of the environment, `results()` returns for a state $\\times$ action combination a set of new states that reflects all possible responses by the opponent."
   ]
  },
  {
   "cell_type": "code",
   "execution_count": 18,
   "metadata": {
    "tags": []
   },
   "outputs": [
    {
     "data": {
      "image/png": "[encoded data removed]",
      "text/plain": [
       "<Figure size 192x192 with 1 Axes>"
      ]
     },
     "metadata": {
      "image/png": {
       "height": 156,
       "width": 156
      }
     },
     "output_type": "display_data"
    },
    {
     "name": "stdout",
     "output_type": "stream",
     "text": [
      "\n",
      "Set of possible state for placing an x at position 4 of an empty board and the opponent's move:\n"
     ]
    },
    {
     "data": {
      "text/plain": [
       "[['o', ' ', ' ', ' ', 'x', ' ', ' ', ' ', ' '],\n",
       " [' ', 'o', ' ', ' ', 'x', ' ', ' ', ' ', ' '],\n",
       " [' ', ' ', 'o', ' ', 'x', ' ', ' ', ' ', ' '],\n",
       " [' ', ' ', ' ', 'o', 'x', ' ', ' ', ' ', ' '],\n",
       " [' ', ' ', ' ', ' ', 'x', 'o', ' ', ' ', ' '],\n",
       " [' ', ' ', ' ', ' ', 'x', ' ', 'o', ' ', ' '],\n",
       " [' ', ' ', ' ', ' ', 'x', ' ', ' ', 'o', ' '],\n",
       " [' ', ' ', ' ', ' ', 'x', ' ', ' ', ' ', 'o']]"
      ]
     },
     "execution_count": 18,
     "metadata": {},
     "output_type": "execute_result"
    }
   ],
   "source": [
    "def results(state, action, player = 'x'):\n",
    "    \"\"\"produce the set of states after the provided action for player. \n",
    "       It is the set of boards with the action and all possible reactions by the opponent.\"\"\"\n",
    "    \n",
    "    if player == 'x': other = 'o'\n",
    "    else: other = 'x'\n",
    "    \n",
    "    state = state.copy()\n",
    "    \n",
    "    # player's move\n",
    "    state[action] = player\n",
    "    \n",
    "    # opponent reacts\n",
    "    r = list()\n",
    "    o_actions = actions(state)\n",
    "    \n",
    "    # board is full\n",
    "    if len(o_actions) < 1 : return [state]\n",
    "    \n",
    "    for o_a in o_actions:\n",
    "        s = state.copy()\n",
    "        s[o_a] = other\n",
    "        r.append(s)    \n",
    "    \n",
    "    return r\n",
    "\n",
    "show_board(empty_board())\n",
    "\n",
    "print()\n",
    "print(\"Set of possible state for placing an x at position 4 of an empty board and the opponent's move:\")\n",
    "results(empty_board(), 4)"
   ]
  },
  {
   "cell_type": "markdown",
   "metadata": {},
   "source": [
    "### Check for the Goal State\n",
    "\n",
    "Games can also end without reaching the goal state (if we loose the game). I implement therefore\n",
    "instead of `is_goal()` the function `is_terminal()` which analyzes the board if a goal state is reached or if the game terminated for some other reason. "
   ]
  },
  {
   "cell_type": "code",
   "execution_count": 19,
   "metadata": {
    "tags": []
   },
   "outputs": [
    {
     "name": "stdout",
     "output_type": "stream",
     "text": [
      "win\n",
      "None\n",
      "False\n"
     ]
    }
   ],
   "source": [
    "def is_terminal(state, player = 'x', draw_is_win = True):\n",
    "    \"\"\"returns False if the state is not a terminal state. For terminal states (game is over),\n",
    "    it returns for the specified player win, draw or None. None represents failure (a loss).\"\"\"\n",
    "    if player == 'x': other = 'o'\n",
    "    else: other = 'x'\n",
    "    \n",
    "    goal = check_board(state)        \n",
    "    if goal == player: return 'win' \n",
    "    if goal == 'd': \n",
    "        if draw_is_win: return 'draw' \n",
    "        else: return None \n",
    "    if goal == other: return None  # loss is failure\n",
    "    return False # continue\n",
    "\n",
    "print(is_terminal(['x'] * 9))\n",
    "print(is_terminal(['o'] * 9))\n",
    "print(is_terminal(empty_board()))"
   ]
  },
  {
   "cell_type": "markdown",
   "metadata": {},
   "source": [
    "### Recursive AND-OR Search (DFS)"
   ]
  },
  {
   "cell_type": "code",
   "execution_count": 20,
   "metadata": {},
   "outputs": [],
   "source": [
    "# define global variables for debuging\n",
    "DEBUG = 1\n",
    "COUNT = 0 # used to report the number of searched nodes\n",
    "\n",
    "def and_or_search(state, player = 'x', draw_is_win = True):\n",
    "    \"\"\"start the search. Consider draw_is_win a goal state?\"\"\"\n",
    "    global DEBUG, COUNT\n",
    "    COUNT = 0\n",
    "    \n",
    "    plan = or_search(state, player, draw_is_win)\n",
    "    \n",
    "    if DEBUG >= 1: \n",
    "        print(f\"Number of nodes searched: {COUNT}\")  \n",
    "    \n",
    "    return plan\n",
    " \n",
    "\n",
    "def or_search(state, player, draw_is_win):\n",
    "    \"\"\"Or step of the search: the player makes a move. \n",
    "    We try all possible action and return a conditional \n",
    "    plan for the first action that only has goal states as leaf nodes. \n",
    "    If none can be found, then failure (None) is returned.\n",
    "    \n",
    "    Note: path is not used in this implementation since tic-tac-toe does not \n",
    "    need cycle checking.\n",
    "    \"\"\"\n",
    "    global DEBUG, COUNT\n",
    "    COUNT += 1\n",
    "    \n",
    "    # goal check\n",
    "    g = is_terminal(state, player, draw_is_win)\n",
    "    if g != False: \n",
    "        return(g)\n",
    "     \n",
    "    # Note: no cycles for this problem! This also means we do not need to maintain the path.    \n",
    "    #if is_cycle(path) return None  \n",
    "\n",
    "    # check all possible actions\n",
    "    for action in actions(state):\n",
    "        plan = and_search(results(state, action, player), player, draw_is_win)\n",
    "        if plan is not None: \n",
    "            return [action, plan]\n",
    "    \n",
    "    # failure\n",
    "    return None\n",
    "\n",
    "\n",
    "def and_search(states, player, draw_is_win):\n",
    "    \"\"\"And step of the search: Represents all opponent's possible moves. \n",
    "    Follow all possible states (call the or step). \n",
    "    Return a conditional plan only if all paths lead to a goal state.\"\"\"\n",
    "    global DEBUG, COUNT\n",
    "    COUNT += 1\n",
    "    \n",
    "    # return plans only if no state fails\n",
    "    plans = []\n",
    "    for s in states:    \n",
    "        # added another goal/terminal check after my move.\n",
    "        g = is_terminal(s, player, draw_is_win)\n",
    "        if g != False: \n",
    "            return(g)\n",
    "      \n",
    "        plan = or_search(s, player, draw_is_win)\n",
    "        \n",
    "        if plan is None: \n",
    "            return None    # found a state that fails so we abandon this subtree!\n",
    "        plans.append(['if', s, 'then', plan])\n",
    "        \n",
    "    return plans"
   ]
  },
  {
   "cell_type": "markdown",
   "metadata": {},
   "source": [
    "And-or search looks for a subtree (i.e., an action) that guarantees a win and returns a conditional plan for this subtree. If no such subtree exists, no plan is returned. The algorithm only searches a fraction of the game tree since it abandons the current subtree when it finds the first leaf node that is not a win (see `and_search` function)."
   ]
  },
  {
   "cell_type": "markdown",
   "metadata": {},
   "source": [
    "# Some Tests\n",
    "\n",
    "## # x is about to win"
   ]
  },
  {
   "cell_type": "code",
   "execution_count": 21,
   "metadata": {},
   "outputs": [
    {
     "name": "stdout",
     "output_type": "stream",
     "text": [
      "Board:\n"
     ]
    },
    {
     "data": {
      "image/png": "[encoded data removed]",
      "text/plain": [
       "<Figure size 192x192 with 1 Axes>"
      ]
     },
     "metadata": {
      "image/png": {
       "height": 156,
       "width": 156
      }
     },
     "output_type": "display_data"
    },
    {
     "name": "stdout",
     "output_type": "stream",
     "text": [
      "\n",
      "Win or draw:\n",
      "Number of nodes searched: 22\n"
     ]
    },
    {
     "data": {
      "text/plain": [
       "[2,\n",
       " [['if', ['x', 'o', 'x', 'o', 'x', 'o', ' ', ' ', ' '], 'then', [6, 'win']],\n",
       "  ['if',\n",
       "   ['x', 'o', 'x', 'o', 'x', ' ', 'o', ' ', ' '],\n",
       "   'then',\n",
       "   [5,\n",
       "    [['if', ['x', 'o', 'x', 'o', 'x', 'x', 'o', 'o', ' '], 'then', [8, 'win']],\n",
       "     ['if',\n",
       "      ['x', 'o', 'x', 'o', 'x', 'x', 'o', ' ', 'o'],\n",
       "      'then',\n",
       "      [7, 'draw']]]]],\n",
       "  ['if',\n",
       "   ['x', 'o', 'x', 'o', 'x', ' ', ' ', 'o', ' '],\n",
       "   'then',\n",
       "   [5,\n",
       "    [['if', ['x', 'o', 'x', 'o', 'x', 'x', 'o', 'o', ' '], 'then', [8, 'win']],\n",
       "     ['if',\n",
       "      ['x', 'o', 'x', 'o', 'x', 'x', ' ', 'o', 'o'],\n",
       "      'then',\n",
       "      [6, 'win']]]]],\n",
       "  ['if',\n",
       "   ['x', 'o', 'x', 'o', 'x', ' ', ' ', ' ', 'o'],\n",
       "   'then',\n",
       "   [5,\n",
       "    [['if',\n",
       "      ['x', 'o', 'x', 'o', 'x', 'x', 'o', ' ', 'o'],\n",
       "      'then',\n",
       "      [7, 'draw']],\n",
       "     ['if',\n",
       "      ['x', 'o', 'x', 'o', 'x', 'x', ' ', 'o', 'o'],\n",
       "      'then',\n",
       "      [6, 'win']]]]]]]"
      ]
     },
     "metadata": {},
     "output_type": "display_data"
    },
    {
     "name": "stdout",
     "output_type": "stream",
     "text": [
      "CPU times: user 5.17 ms, sys: 8.78 ms, total: 14 ms\n",
      "Wall time: 4.62 ms\n"
     ]
    }
   ],
   "source": [
    "board = empty_board() \n",
    "board[0] = 'x'\n",
    "board[1] = 'o'\n",
    "board[3] = 'o'\n",
    "board[4] = 'x'\n",
    "\n",
    "print(\"Board:\")\n",
    "show_board(board)\n",
    "\n",
    "print()\n",
    "print(\"Win or draw:\")\n",
    "%time display(and_or_search(board, player = 'x', draw_is_win = True))"
   ]
  },
  {
   "cell_type": "markdown",
   "metadata": {},
   "source": [
    "Why does it play 2 and not 8!!!"
   ]
  },
  {
   "cell_type": "code",
   "execution_count": 22,
   "metadata": {},
   "outputs": [
    {
     "name": "stdout",
     "output_type": "stream",
     "text": [
      "Win only:\n",
      "Number of nodes searched: 27\n"
     ]
    },
    {
     "data": {
      "text/plain": [
       "[2,\n",
       " [['if', ['x', 'o', 'x', 'o', 'x', 'o', ' ', ' ', ' '], 'then', [6, 'win']],\n",
       "  ['if', ['x', 'o', 'x', 'o', 'x', ' ', 'o', ' ', ' '], 'then', [8, 'win']],\n",
       "  ['if',\n",
       "   ['x', 'o', 'x', 'o', 'x', ' ', ' ', 'o', ' '],\n",
       "   'then',\n",
       "   [5,\n",
       "    [['if', ['x', 'o', 'x', 'o', 'x', 'x', 'o', 'o', ' '], 'then', [8, 'win']],\n",
       "     ['if',\n",
       "      ['x', 'o', 'x', 'o', 'x', 'x', ' ', 'o', 'o'],\n",
       "      'then',\n",
       "      [6, 'win']]]]],\n",
       "  ['if', ['x', 'o', 'x', 'o', 'x', ' ', ' ', ' ', 'o'], 'then', [6, 'win']]]]"
      ]
     },
     "metadata": {},
     "output_type": "display_data"
    },
    {
     "name": "stdout",
     "output_type": "stream",
     "text": [
      "CPU times: user 8.29 ms, sys: 4.19 ms, total: 12.5 ms\n",
      "Wall time: 4.17 ms\n"
     ]
    }
   ],
   "source": [
    "print(\"Win only:\")\n",
    "%time display(and_or_search(board, player = 'x', draw_is_win = False))"
   ]
  },
  {
   "cell_type": "markdown",
   "metadata": {},
   "source": [
    "## x can draw_is_win if it chooses 7"
   ]
  },
  {
   "cell_type": "code",
   "execution_count": 23,
   "metadata": {},
   "outputs": [
    {
     "name": "stdout",
     "output_type": "stream",
     "text": [
      "Board:\n"
     ]
    },
    {
     "data": {
      "image/png": "[encoded data removed]",
      "text/plain": [
       "<Figure size 192x192 with 1 Axes>"
      ]
     },
     "metadata": {
      "image/png": {
       "height": 156,
       "width": 156
      }
     },
     "output_type": "display_data"
    },
    {
     "name": "stdout",
     "output_type": "stream",
     "text": [
      "\n",
      "Win or draw:\n",
      "Number of nodes searched: 56\n"
     ]
    },
    {
     "data": {
      "text/plain": [
       "[7,\n",
       " [['if',\n",
       "   ['x', 'o', 'x', 'o', 'o', ' ', ' ', 'x', ' '],\n",
       "   'then',\n",
       "   [5,\n",
       "    [['if', ['x', 'o', 'x', 'o', 'o', 'x', 'o', 'x', ' '], 'then', [8, 'win']],\n",
       "     ['if',\n",
       "      ['x', 'o', 'x', 'o', 'o', 'x', ' ', 'x', 'o'],\n",
       "      'then',\n",
       "      [6, 'draw']]]]],\n",
       "  ['if',\n",
       "   ['x', 'o', 'x', ' ', 'o', 'o', ' ', 'x', ' '],\n",
       "   'then',\n",
       "   [3,\n",
       "    [['if',\n",
       "      ['x', 'o', 'x', 'x', 'o', 'o', 'o', 'x', ' '],\n",
       "      'then',\n",
       "      [8, 'draw']],\n",
       "     ['if',\n",
       "      ['x', 'o', 'x', 'x', 'o', 'o', ' ', 'x', 'o'],\n",
       "      'then',\n",
       "      [6, 'win']]]]],\n",
       "  ['if',\n",
       "   ['x', 'o', 'x', ' ', 'o', ' ', 'o', 'x', ' '],\n",
       "   'then',\n",
       "   [3,\n",
       "    [['if',\n",
       "      ['x', 'o', 'x', 'x', 'o', 'o', 'o', 'x', ' '],\n",
       "      'then',\n",
       "      [8, 'draw']],\n",
       "     ['if',\n",
       "      ['x', 'o', 'x', 'x', 'o', ' ', 'o', 'x', 'o'],\n",
       "      'then',\n",
       "      [5, 'draw']]]]],\n",
       "  ['if',\n",
       "   ['x', 'o', 'x', ' ', 'o', ' ', ' ', 'x', 'o'],\n",
       "   'then',\n",
       "   [3,\n",
       "    [['if', ['x', 'o', 'x', 'x', 'o', 'o', ' ', 'x', 'o'], 'then', [6, 'win']],\n",
       "     ['if',\n",
       "      ['x', 'o', 'x', 'x', 'o', ' ', 'o', 'x', 'o'],\n",
       "      'then',\n",
       "      [5, 'draw']]]]]]]"
      ]
     },
     "metadata": {},
     "output_type": "display_data"
    },
    {
     "name": "stdout",
     "output_type": "stream",
     "text": [
      "CPU times: user 19.1 ms, sys: 3.36 ms, total: 22.4 ms\n",
      "Wall time: 7.44 ms\n"
     ]
    }
   ],
   "source": [
    "\n",
    "board = empty_board() \n",
    "board[0] = 'x'\n",
    "board[1] = 'o'\n",
    "board[2] = 'x'\n",
    "#board[3] = 'o'\n",
    "board[4] = 'o'\n",
    "\n",
    "print(\"Board:\")\n",
    "show_board(board)\n",
    "\n",
    "print()\n",
    "print(\"Win or draw:\")\n",
    "%time display(and_or_search(board, player = 'x', draw_is_win = True))"
   ]
  },
  {
   "cell_type": "code",
   "execution_count": 24,
   "metadata": {},
   "outputs": [
    {
     "name": "stdout",
     "output_type": "stream",
     "text": [
      "Win only:\n",
      "Number of nodes searched: 52\n"
     ]
    },
    {
     "data": {
      "text/plain": [
       "None"
      ]
     },
     "metadata": {},
     "output_type": "display_data"
    },
    {
     "name": "stdout",
     "output_type": "stream",
     "text": [
      "CPU times: user 3.46 ms, sys: 12.9 ms, total: 16.4 ms\n",
      "Wall time: 5.34 ms\n"
     ]
    }
   ],
   "source": [
    "print(\"Win only:\")\n",
    "%time display(and_or_search(board, player = 'x', draw_is_win = False))"
   ]
  },
  {
   "cell_type": "markdown",
   "metadata": {},
   "source": [
    "## o is about to win"
   ]
  },
  {
   "cell_type": "code",
   "execution_count": 25,
   "metadata": {},
   "outputs": [
    {
     "name": "stdout",
     "output_type": "stream",
     "text": [
      "Board:\n"
     ]
    },
    {
     "data": {
      "image/png": "[encoded data removed]",
      "text/plain": [
       "<Figure size 192x192 with 1 Axes>"
      ]
     },
     "metadata": {
      "image/png": {
       "height": 156,
       "width": 156
      }
     },
     "output_type": "display_data"
    },
    {
     "name": "stdout",
     "output_type": "stream",
     "text": [
      "\n",
      "Win or draw:\n",
      "Number of nodes searched: 7\n"
     ]
    },
    {
     "data": {
      "text/plain": [
       "None"
      ]
     },
     "metadata": {},
     "output_type": "display_data"
    },
    {
     "name": "stdout",
     "output_type": "stream",
     "text": [
      "CPU times: user 4.05 ms, sys: 1.19 ms, total: 5.24 ms\n",
      "Wall time: 1.73 ms\n"
     ]
    }
   ],
   "source": [
    "board = empty_board() \n",
    "board[0] = 'o'\n",
    "board[1] = 'o'\n",
    "board[3] = 'o'\n",
    "board[4] = 'x'\n",
    "board[8] = 'x'\n",
    "\n",
    "print(\"Board:\")\n",
    "show_board(board)\n",
    "\n",
    "print()\n",
    "print(\"Win or draw:\")\n",
    "%time display(and_or_search(board, player = 'x', draw_is_win = True))"
   ]
  },
  {
   "cell_type": "markdown",
   "metadata": {},
   "source": [
    "Check for player o"
   ]
  },
  {
   "cell_type": "code",
   "execution_count": 26,
   "metadata": {},
   "outputs": [
    {
     "name": "stdout",
     "output_type": "stream",
     "text": [
      "Win only:\n",
      "Number of nodes searched: 2\n"
     ]
    },
    {
     "data": {
      "text/plain": [
       "[2, 'win']"
      ]
     },
     "metadata": {},
     "output_type": "display_data"
    },
    {
     "name": "stdout",
     "output_type": "stream",
     "text": [
      "CPU times: user 0 ns, sys: 7.7 ms, total: 7.7 ms\n",
      "Wall time: 2.53 ms\n"
     ]
    }
   ],
   "source": [
    "print(\"Win only:\")\n",
    "%time display(and_or_search(board, player = 'o', draw_is_win = False))"
   ]
  },
  {
   "cell_type": "markdown",
   "metadata": {},
   "source": [
    "## Empty board: Only a draw_is_win can be guaranteed"
   ]
  },
  {
   "cell_type": "code",
   "execution_count": 27,
   "metadata": {
    "scrolled": true,
    "tags": []
   },
   "outputs": [
    {
     "name": "stdout",
     "output_type": "stream",
     "text": [
      "Board:\n"
     ]
    },
    {
     "data": {
      "image/png": "[encoded data removed]",
      "text/plain": [
       "<Figure size 192x192 with 1 Axes>"
      ]
     },
     "metadata": {
      "image/png": {
       "height": 156,
       "width": 156
      }
     },
     "output_type": "display_data"
    },
    {
     "name": "stdout",
     "output_type": "stream",
     "text": [
      "\n",
      "Win or draw:\n",
      "Number of nodes searched: 833\n"
     ]
    },
    {
     "data": {
      "text/plain": [
       "[0,\n",
       " [['if',\n",
       "   ['x', 'o', ' ', ' ', ' ', ' ', ' ', ' ', ' '],\n",
       "   'then',\n",
       "   [2,\n",
       "    [['if',\n",
       "      ['x', 'o', 'x', 'o', ' ', ' ', ' ', ' ', ' '],\n",
       "      'then',\n",
       "      [4,\n",
       "       [['if',\n",
       "         ['x', 'o', 'x', 'o', 'x', 'o', ' ', ' ', ' '],\n",
       "         'then',\n",
       "         [6, 'win']],\n",
       "        ['if',\n",
       "         ['x', 'o', 'x', 'o', 'x', ' ', 'o', ' ', ' '],\n",
       "         'then',\n",
       "         [5,\n",
       "          [['if',\n",
       "            ['x', 'o', 'x', 'o', 'x', 'x', 'o', 'o', ' '],\n",
       "            'then',\n",
       "            [8, 'win']],\n",
       "           ['if',\n",
       "            ['x', 'o', 'x', 'o', 'x', 'x', 'o', ' ', 'o'],\n",
       "            'then',\n",
       "            [7, 'draw']]]]],\n",
       "        ['if',\n",
       "         ['x', 'o', 'x', 'o', 'x', ' ', ' ', 'o', ' '],\n",
       "         'then',\n",
       "         [5,\n",
       "          [['if',\n",
       "            ['x', 'o', 'x', 'o', 'x', 'x', 'o', 'o', ' '],\n",
       "            'then',\n",
       "            [8, 'win']],\n",
       "           ['if',\n",
       "            ['x', 'o', 'x', 'o', 'x', 'x', ' ', 'o', 'o'],\n",
       "            'then',\n",
       "            [6, 'win']]]]],\n",
       "        ['if',\n",
       "         ['x', 'o', 'x', 'o', 'x', ' ', ' ', ' ', 'o'],\n",
       "         'then',\n",
       "         [5,\n",
       "          [['if',\n",
       "            ['x', 'o', 'x', 'o', 'x', 'x', 'o', ' ', 'o'],\n",
       "            'then',\n",
       "            [7, 'draw']],\n",
       "           ['if',\n",
       "            ['x', 'o', 'x', 'o', 'x', 'x', ' ', 'o', 'o'],\n",
       "            'then',\n",
       "            [6, 'win']]]]]]]],\n",
       "     ['if',\n",
       "      ['x', 'o', 'x', ' ', 'o', ' ', ' ', ' ', ' '],\n",
       "      'then',\n",
       "      [7,\n",
       "       [['if',\n",
       "         ['x', 'o', 'x', 'o', 'o', ' ', ' ', 'x', ' '],\n",
       "         'then',\n",
       "         [5,\n",
       "          [['if',\n",
       "            ['x', 'o', 'x', 'o', 'o', 'x', 'o', 'x', ' '],\n",
       "            'then',\n",
       "            [8, 'win']],\n",
       "           ['if',\n",
       "            ['x', 'o', 'x', 'o', 'o', 'x', ' ', 'x', 'o'],\n",
       "            'then',\n",
       "            [6, 'draw']]]]],\n",
       "        ['if',\n",
       "         ['x', 'o', 'x', ' ', 'o', 'o', ' ', 'x', ' '],\n",
       "         'then',\n",
       "         [3,\n",
       "          [['if',\n",
       "            ['x', 'o', 'x', 'x', 'o', 'o', 'o', 'x', ' '],\n",
       "            'then',\n",
       "            [8, 'draw']],\n",
       "           ['if',\n",
       "            ['x', 'o', 'x', 'x', 'o', 'o', ' ', 'x', 'o'],\n",
       "            'then',\n",
       "            [6, 'win']]]]],\n",
       "        ['if',\n",
       "         ['x', 'o', 'x', ' ', 'o', ' ', 'o', 'x', ' '],\n",
       "         'then',\n",
       "         [3,\n",
       "          [['if',\n",
       "            ['x', 'o', 'x', 'x', 'o', 'o', 'o', 'x', ' '],\n",
       "            'then',\n",
       "            [8, 'draw']],\n",
       "           ['if',\n",
       "            ['x', 'o', 'x', 'x', 'o', ' ', 'o', 'x', 'o'],\n",
       "            'then',\n",
       "            [5, 'draw']]]]],\n",
       "        ['if',\n",
       "         ['x', 'o', 'x', ' ', 'o', ' ', ' ', 'x', 'o'],\n",
       "         'then',\n",
       "         [3,\n",
       "          [['if',\n",
       "            ['x', 'o', 'x', 'x', 'o', 'o', ' ', 'x', 'o'],\n",
       "            'then',\n",
       "            [6, 'win']],\n",
       "           ['if',\n",
       "            ['x', 'o', 'x', 'x', 'o', ' ', 'o', 'x', 'o'],\n",
       "            'then',\n",
       "            [5, 'draw']]]]]]]],\n",
       "     ['if',\n",
       "      ['x', 'o', 'x', ' ', ' ', 'o', ' ', ' ', ' '],\n",
       "      'then',\n",
       "      [3,\n",
       "       [['if',\n",
       "         ['x', 'o', 'x', 'x', 'o', 'o', ' ', ' ', ' '],\n",
       "         'then',\n",
       "         [6, 'win']],\n",
       "        ['if',\n",
       "         ['x', 'o', 'x', 'x', ' ', 'o', 'o', ' ', ' '],\n",
       "         'then',\n",
       "         [4,\n",
       "          [['if',\n",
       "            ['x', 'o', 'x', 'x', 'x', 'o', 'o', 'o', ' '],\n",
       "            'then',\n",
       "            [8, 'win']],\n",
       "           ['if',\n",
       "            ['x', 'o', 'x', 'x', 'x', 'o', 'o', ' ', 'o'],\n",
       "            'then',\n",
       "            [7, 'draw']]]]],\n",
       "        ['if',\n",
       "         ['x', 'o', 'x', 'x', ' ', 'o', ' ', 'o', ' '],\n",
       "         'then',\n",
       "         [4,\n",
       "          [['if',\n",
       "            ['x', 'o', 'x', 'x', 'x', 'o', 'o', 'o', ' '],\n",
       "            'then',\n",
       "            [8, 'win']],\n",
       "           ['if',\n",
       "            ['x', 'o', 'x', 'x', 'x', 'o', ' ', 'o', 'o'],\n",
       "            'then',\n",
       "            [6, 'win']]]]],\n",
       "        ['if',\n",
       "         ['x', 'o', 'x', 'x', ' ', 'o', ' ', ' ', 'o'],\n",
       "         'then',\n",
       "         [4,\n",
       "          [['if',\n",
       "            ['x', 'o', 'x', 'x', 'x', 'o', 'o', ' ', 'o'],\n",
       "            'then',\n",
       "            [7, 'draw']],\n",
       "           ['if',\n",
       "            ['x', 'o', 'x', 'x', 'x', 'o', ' ', 'o', 'o'],\n",
       "            'then',\n",
       "            [6, 'win']]]]]]]],\n",
       "     ['if',\n",
       "      ['x', 'o', 'x', ' ', ' ', ' ', 'o', ' ', ' '],\n",
       "      'then',\n",
       "      [4,\n",
       "       [['if',\n",
       "         ['x', 'o', 'x', 'o', 'x', ' ', 'o', ' ', ' '],\n",
       "         'then',\n",
       "         [5,\n",
       "          [['if',\n",
       "            ['x', 'o', 'x', 'o', 'x', 'x', 'o', 'o', ' '],\n",
       "            'then',\n",
       "            [8, 'win']],\n",
       "           ['if',\n",
       "            ['x', 'o', 'x', 'o', 'x', 'x', 'o', ' ', 'o'],\n",
       "            'then',\n",
       "            [7, 'draw']]]]],\n",
       "        ['if',\n",
       "         ['x', 'o', 'x', ' ', 'x', 'o', 'o', ' ', ' '],\n",
       "         'then',\n",
       "         [3,\n",
       "          [['if',\n",
       "            ['x', 'o', 'x', 'x', 'x', 'o', 'o', 'o', ' '],\n",
       "            'then',\n",
       "            [8, 'win']],\n",
       "           ['if',\n",
       "            ['x', 'o', 'x', 'x', 'x', 'o', 'o', ' ', 'o'],\n",
       "            'then',\n",
       "            [7, 'draw']]]]],\n",
       "        ['if',\n",
       "         ['x', 'o', 'x', ' ', 'x', ' ', 'o', 'o', ' '],\n",
       "         'then',\n",
       "         [8, 'win']],\n",
       "        ['if',\n",
       "         ['x', 'o', 'x', ' ', 'x', ' ', 'o', ' ', 'o'],\n",
       "         'then',\n",
       "         [7,\n",
       "          [['if',\n",
       "            ['x', 'o', 'x', 'o', 'x', ' ', 'o', 'x', 'o'],\n",
       "            'then',\n",
       "            [5, 'draw']],\n",
       "           ['if',\n",
       "            ['x', 'o', 'x', ' ', 'x', 'o', 'o', 'x', 'o'],\n",
       "            'then',\n",
       "            [3, 'draw']]]]]]]],\n",
       "     ['if',\n",
       "      ['x', 'o', 'x', ' ', ' ', ' ', ' ', 'o', ' '],\n",
       "      'then',\n",
       "      [4,\n",
       "       [['if',\n",
       "         ['x', 'o', 'x', 'o', 'x', ' ', ' ', 'o', ' '],\n",
       "         'then',\n",
       "         [5,\n",
       "          [['if',\n",
       "            ['x', 'o', 'x', 'o', 'x', 'x', 'o', 'o', ' '],\n",
       "            'then',\n",
       "            [8, 'win']],\n",
       "           ['if',\n",
       "            ['x', 'o', 'x', 'o', 'x', 'x', ' ', 'o', 'o'],\n",
       "            'then',\n",
       "            [6, 'win']]]]],\n",
       "        ['if',\n",
       "         ['x', 'o', 'x', ' ', 'x', 'o', ' ', 'o', ' '],\n",
       "         'then',\n",
       "         [3,\n",
       "          [['if',\n",
       "            ['x', 'o', 'x', 'x', 'x', 'o', 'o', 'o', ' '],\n",
       "            'then',\n",
       "            [8, 'win']],\n",
       "           ['if',\n",
       "            ['x', 'o', 'x', 'x', 'x', 'o', ' ', 'o', 'o'],\n",
       "            'then',\n",
       "            [6, 'win']]]]],\n",
       "        ['if',\n",
       "         ['x', 'o', 'x', ' ', 'x', ' ', 'o', 'o', ' '],\n",
       "         'then',\n",
       "         [8, 'win']],\n",
       "        ['if',\n",
       "         ['x', 'o', 'x', ' ', 'x', ' ', ' ', 'o', 'o'],\n",
       "         'then',\n",
       "         [6, 'win']]]]],\n",
       "     ['if',\n",
       "      ['x', 'o', 'x', ' ', ' ', ' ', ' ', ' ', 'o'],\n",
       "      'then',\n",
       "      [3,\n",
       "       [['if',\n",
       "         ['x', 'o', 'x', 'x', 'o', ' ', ' ', ' ', 'o'],\n",
       "         'then',\n",
       "         [6, 'win']],\n",
       "        ['if',\n",
       "         ['x', 'o', 'x', 'x', ' ', 'o', ' ', ' ', 'o'],\n",
       "         'then',\n",
       "         [4,\n",
       "          [['if',\n",
       "            ['x', 'o', 'x', 'x', 'x', 'o', 'o', ' ', 'o'],\n",
       "            'then',\n",
       "            [7, 'draw']],\n",
       "           ['if',\n",
       "            ['x', 'o', 'x', 'x', 'x', 'o', ' ', 'o', 'o'],\n",
       "            'then',\n",
       "            [6, 'win']]]]],\n",
       "        ['if',\n",
       "         ['x', 'o', 'x', 'x', ' ', ' ', 'o', ' ', 'o'],\n",
       "         'then',\n",
       "         [7,\n",
       "          [['if',\n",
       "            ['x', 'o', 'x', 'x', 'o', ' ', 'o', 'x', 'o'],\n",
       "            'then',\n",
       "            [5, 'draw']],\n",
       "           ['if',\n",
       "            ['x', 'o', 'x', 'x', ' ', 'o', 'o', 'x', 'o'],\n",
       "            'then',\n",
       "            [4, 'draw']]]]],\n",
       "        ['if',\n",
       "         ['x', 'o', 'x', 'x', ' ', ' ', ' ', 'o', 'o'],\n",
       "         'then',\n",
       "         [6, 'win']]]]]]]],\n",
       "  ['if',\n",
       "   ['x', ' ', 'o', ' ', ' ', ' ', ' ', ' ', ' '],\n",
       "   'then',\n",
       "   [3,\n",
       "    [['if',\n",
       "      ['x', 'o', 'o', 'x', ' ', ' ', ' ', ' ', ' '],\n",
       "      'then',\n",
       "      [4,\n",
       "       [['if',\n",
       "         ['x', 'o', 'o', 'x', 'x', 'o', ' ', ' ', ' '],\n",
       "         'then',\n",
       "         [6, 'win']],\n",
       "        ['if',\n",
       "         ['x', 'o', 'o', 'x', 'x', ' ', 'o', ' ', ' '],\n",
       "         'then',\n",
       "         [5, 'win']],\n",
       "        ['if',\n",
       "         ['x', 'o', 'o', 'x', 'x', ' ', ' ', 'o', ' '],\n",
       "         'then',\n",
       "         [5, 'win']],\n",
       "        ['if',\n",
       "         ['x', 'o', 'o', 'x', 'x', ' ', ' ', ' ', 'o'],\n",
       "         'then',\n",
       "         [5, 'win']]]]],\n",
       "     ['if', ['x', ' ', 'o', 'x', 'o', ' ', ' ', ' ', ' '], 'then', [6, 'win']],\n",
       "     ['if', ['x', ' ', 'o', 'x', ' ', 'o', ' ', ' ', ' '], 'then', [6, 'win']],\n",
       "     ['if',\n",
       "      ['x', ' ', 'o', 'x', ' ', ' ', 'o', ' ', ' '],\n",
       "      'then',\n",
       "      [4,\n",
       "       [['if',\n",
       "         ['x', 'o', 'o', 'x', 'x', ' ', 'o', ' ', ' '],\n",
       "         'then',\n",
       "         [5, 'win']],\n",
       "        ['if',\n",
       "         ['x', ' ', 'o', 'x', 'x', 'o', 'o', ' ', ' '],\n",
       "         'then',\n",
       "         [8, 'win']],\n",
       "        ['if',\n",
       "         ['x', ' ', 'o', 'x', 'x', ' ', 'o', 'o', ' '],\n",
       "         'then',\n",
       "         [5, 'win']],\n",
       "        ['if',\n",
       "         ['x', ' ', 'o', 'x', 'x', ' ', 'o', ' ', 'o'],\n",
       "         'then',\n",
       "         [5, 'win']]]]],\n",
       "     ['if',\n",
       "      ['x', ' ', 'o', 'x', ' ', ' ', ' ', 'o', ' '],\n",
       "      'then',\n",
       "      [4,\n",
       "       [['if',\n",
       "         ['x', 'o', 'o', 'x', 'x', ' ', ' ', 'o', ' '],\n",
       "         'then',\n",
       "         [5, 'win']],\n",
       "        ['if',\n",
       "         ['x', ' ', 'o', 'x', 'x', 'o', ' ', 'o', ' '],\n",
       "         'then',\n",
       "         [6, 'win']],\n",
       "        ['if',\n",
       "         ['x', ' ', 'o', 'x', 'x', ' ', 'o', 'o', ' '],\n",
       "         'then',\n",
       "         [5, 'win']],\n",
       "        ['if',\n",
       "         ['x', ' ', 'o', 'x', 'x', ' ', ' ', 'o', 'o'],\n",
       "         'then',\n",
       "         [5, 'win']]]]],\n",
       "     ['if',\n",
       "      ['x', ' ', 'o', 'x', ' ', ' ', ' ', ' ', 'o'],\n",
       "      'then',\n",
       "      [5,\n",
       "       [['if',\n",
       "         ['x', 'o', 'o', 'x', ' ', 'x', ' ', ' ', 'o'],\n",
       "         'then',\n",
       "         [4, 'win']],\n",
       "        ['if',\n",
       "         ['x', ' ', 'o', 'x', 'o', 'x', ' ', ' ', 'o'],\n",
       "         'then',\n",
       "         [6, 'win']],\n",
       "        ['if',\n",
       "         ['x', ' ', 'o', 'x', ' ', 'x', 'o', ' ', 'o'],\n",
       "         'then',\n",
       "         [4, 'win']],\n",
       "        ['if',\n",
       "         ['x', ' ', 'o', 'x', ' ', 'x', ' ', 'o', 'o'],\n",
       "         'then',\n",
       "         [4, 'win']]]]]]]],\n",
       "  ['if',\n",
       "   ['x', ' ', ' ', 'o', ' ', ' ', ' ', ' ', ' '],\n",
       "   'then',\n",
       "   [1,\n",
       "    [['if',\n",
       "      ['x', 'x', 'o', 'o', ' ', ' ', ' ', ' ', ' '],\n",
       "      'then',\n",
       "      [4,\n",
       "       [['if',\n",
       "         ['x', 'x', 'o', 'o', 'x', 'o', ' ', ' ', ' '],\n",
       "         'then',\n",
       "         [7, 'win']],\n",
       "        ['if',\n",
       "         ['x', 'x', 'o', 'o', 'x', ' ', 'o', ' ', ' '],\n",
       "         'then',\n",
       "         [5,\n",
       "          [['if',\n",
       "            ['x', 'x', 'o', 'o', 'x', 'x', 'o', 'o', ' '],\n",
       "            'then',\n",
       "            [8, 'win']],\n",
       "           ['if',\n",
       "            ['x', 'x', 'o', 'o', 'x', 'x', 'o', ' ', 'o'],\n",
       "            'then',\n",
       "            [7, 'win']]]]],\n",
       "        ['if',\n",
       "         ['x', 'x', 'o', 'o', 'x', ' ', ' ', 'o', ' '],\n",
       "         'then',\n",
       "         [5,\n",
       "          [['if',\n",
       "            ['x', 'x', 'o', 'o', 'x', 'x', 'o', 'o', ' '],\n",
       "            'then',\n",
       "            [8, 'win']],\n",
       "           ['if',\n",
       "            ['x', 'x', 'o', 'o', 'x', 'x', ' ', 'o', 'o'],\n",
       "            'then',\n",
       "            [6, 'draw']]]]],\n",
       "        ['if',\n",
       "         ['x', 'x', 'o', 'o', 'x', ' ', ' ', ' ', 'o'],\n",
       "         'then',\n",
       "         [5,\n",
       "          [['if',\n",
       "            ['x', 'x', 'o', 'o', 'x', 'x', 'o', ' ', 'o'],\n",
       "            'then',\n",
       "            [7, 'win']],\n",
       "           ['if',\n",
       "            ['x', 'x', 'o', 'o', 'x', 'x', ' ', 'o', 'o'],\n",
       "            'then',\n",
       "            [6, 'draw']]]]]]]],\n",
       "     ['if', ['x', 'x', ' ', 'o', 'o', ' ', ' ', ' ', ' '], 'then', [2, 'win']],\n",
       "     ['if', ['x', 'x', ' ', 'o', ' ', 'o', ' ', ' ', ' '], 'then', [2, 'win']],\n",
       "     ['if', ['x', 'x', ' ', 'o', ' ', ' ', 'o', ' ', ' '], 'then', [2, 'win']],\n",
       "     ['if', ['x', 'x', ' ', 'o', ' ', ' ', ' ', 'o', ' '], 'then', [2, 'win']],\n",
       "     ['if',\n",
       "      ['x', 'x', ' ', 'o', ' ', ' ', ' ', ' ', 'o'],\n",
       "      'then',\n",
       "      [2, 'win']]]]],\n",
       "  ['if',\n",
       "   ['x', ' ', ' ', ' ', 'o', ' ', ' ', ' ', ' '],\n",
       "   'then',\n",
       "   [1,\n",
       "    [['if',\n",
       "      ['x', 'x', 'o', ' ', 'o', ' ', ' ', ' ', ' '],\n",
       "      'then',\n",
       "      [6,\n",
       "       [['if',\n",
       "         ['x', 'x', 'o', 'o', 'o', ' ', 'x', ' ', ' '],\n",
       "         'then',\n",
       "         [5,\n",
       "          [['if',\n",
       "            ['x', 'x', 'o', 'o', 'o', 'x', 'x', 'o', ' '],\n",
       "            'then',\n",
       "            [8, 'draw']],\n",
       "           ['if',\n",
       "            ['x', 'x', 'o', 'o', 'o', 'x', 'x', ' ', 'o'],\n",
       "            'then',\n",
       "            [7, 'draw']]]]],\n",
       "        ['if',\n",
       "         ['x', 'x', 'o', ' ', 'o', 'o', 'x', ' ', ' '],\n",
       "         'then',\n",
       "         [3, 'win']],\n",
       "        ['if',\n",
       "         ['x', 'x', 'o', ' ', 'o', ' ', 'x', 'o', ' '],\n",
       "         'then',\n",
       "         [3, 'win']],\n",
       "        ['if',\n",
       "         ['x', 'x', 'o', ' ', 'o', ' ', 'x', ' ', 'o'],\n",
       "         'then',\n",
       "         [3, 'win']]]]],\n",
       "     ['if', ['x', 'x', ' ', 'o', 'o', ' ', ' ', ' ', ' '], 'then', [2, 'win']],\n",
       "     ['if', ['x', 'x', ' ', ' ', 'o', 'o', ' ', ' ', ' '], 'then', [2, 'win']],\n",
       "     ['if', ['x', 'x', ' ', ' ', 'o', ' ', 'o', ' ', ' '], 'then', [2, 'win']],\n",
       "     ['if', ['x', 'x', ' ', ' ', 'o', ' ', ' ', 'o', ' '], 'then', [2, 'win']],\n",
       "     ['if',\n",
       "      ['x', 'x', ' ', ' ', 'o', ' ', ' ', ' ', 'o'],\n",
       "      'then',\n",
       "      [2, 'win']]]]],\n",
       "  ['if',\n",
       "   ['x', ' ', ' ', ' ', ' ', 'o', ' ', ' ', ' '],\n",
       "   'then',\n",
       "   [2,\n",
       "    [['if',\n",
       "      ['x', 'o', 'x', ' ', ' ', 'o', ' ', ' ', ' '],\n",
       "      'then',\n",
       "      [3,\n",
       "       [['if',\n",
       "         ['x', 'o', 'x', 'x', 'o', 'o', ' ', ' ', ' '],\n",
       "         'then',\n",
       "         [6, 'win']],\n",
       "        ['if',\n",
       "         ['x', 'o', 'x', 'x', ' ', 'o', 'o', ' ', ' '],\n",
       "         'then',\n",
       "         [4,\n",
       "          [['if',\n",
       "            ['x', 'o', 'x', 'x', 'x', 'o', 'o', 'o', ' '],\n",
       "            'then',\n",
       "            [8, 'win']],\n",
       "           ['if',\n",
       "            ['x', 'o', 'x', 'x', 'x', 'o', 'o', ' ', 'o'],\n",
       "            'then',\n",
       "            [7, 'draw']]]]],\n",
       "        ['if',\n",
       "         ['x', 'o', 'x', 'x', ' ', 'o', ' ', 'o', ' '],\n",
       "         'then',\n",
       "         [4,\n",
       "          [['if',\n",
       "            ['x', 'o', 'x', 'x', 'x', 'o', 'o', 'o', ' '],\n",
       "            'then',\n",
       "            [8, 'win']],\n",
       "           ['if',\n",
       "            ['x', 'o', 'x', 'x', 'x', 'o', ' ', 'o', 'o'],\n",
       "            'then',\n",
       "            [6, 'win']]]]],\n",
       "        ['if',\n",
       "         ['x', 'o', 'x', 'x', ' ', 'o', ' ', ' ', 'o'],\n",
       "         'then',\n",
       "         [4,\n",
       "          [['if',\n",
       "            ['x', 'o', 'x', 'x', 'x', 'o', 'o', ' ', 'o'],\n",
       "            'then',\n",
       "            [7, 'draw']],\n",
       "           ['if',\n",
       "            ['x', 'o', 'x', 'x', 'x', 'o', ' ', 'o', 'o'],\n",
       "            'then',\n",
       "            [6, 'win']]]]]]]],\n",
       "     ['if', ['x', ' ', 'x', 'o', ' ', 'o', ' ', ' ', ' '], 'then', [1, 'win']],\n",
       "     ['if', ['x', ' ', 'x', ' ', 'o', 'o', ' ', ' ', ' '], 'then', [1, 'win']],\n",
       "     ['if', ['x', ' ', 'x', ' ', ' ', 'o', 'o', ' ', ' '], 'then', [1, 'win']],\n",
       "     ['if', ['x', ' ', 'x', ' ', ' ', 'o', ' ', 'o', ' '], 'then', [1, 'win']],\n",
       "     ['if',\n",
       "      ['x', ' ', 'x', ' ', ' ', 'o', ' ', ' ', 'o'],\n",
       "      'then',\n",
       "      [1, 'win']]]]],\n",
       "  ['if',\n",
       "   ['x', ' ', ' ', ' ', ' ', ' ', 'o', ' ', ' '],\n",
       "   'then',\n",
       "   [1,\n",
       "    [['if',\n",
       "      ['x', 'x', 'o', ' ', ' ', ' ', 'o', ' ', ' '],\n",
       "      'then',\n",
       "      [4,\n",
       "       [['if',\n",
       "         ['x', 'x', 'o', 'o', 'x', ' ', 'o', ' ', ' '],\n",
       "         'then',\n",
       "         [5,\n",
       "          [['if',\n",
       "            ['x', 'x', 'o', 'o', 'x', 'x', 'o', 'o', ' '],\n",
       "            'then',\n",
       "            [8, 'win']],\n",
       "           ['if',\n",
       "            ['x', 'x', 'o', 'o', 'x', 'x', 'o', ' ', 'o'],\n",
       "            'then',\n",
       "            [7, 'win']]]]],\n",
       "        ['if',\n",
       "         ['x', 'x', 'o', ' ', 'x', 'o', 'o', ' ', ' '],\n",
       "         'then',\n",
       "         [7, 'win']],\n",
       "        ['if',\n",
       "         ['x', 'x', 'o', ' ', 'x', ' ', 'o', 'o', ' '],\n",
       "         'then',\n",
       "         [8, 'win']],\n",
       "        ['if',\n",
       "         ['x', 'x', 'o', ' ', 'x', ' ', 'o', ' ', 'o'],\n",
       "         'then',\n",
       "         [7, 'win']]]]],\n",
       "     ['if', ['x', 'x', ' ', 'o', ' ', ' ', 'o', ' ', ' '], 'then', [2, 'win']],\n",
       "     ['if', ['x', 'x', ' ', ' ', 'o', ' ', 'o', ' ', ' '], 'then', [2, 'win']],\n",
       "     ['if', ['x', 'x', ' ', ' ', ' ', 'o', 'o', ' ', ' '], 'then', [2, 'win']],\n",
       "     ['if', ['x', 'x', ' ', ' ', ' ', ' ', 'o', 'o', ' '], 'then', [2, 'win']],\n",
       "     ['if',\n",
       "      ['x', 'x', ' ', ' ', ' ', ' ', 'o', ' ', 'o'],\n",
       "      'then',\n",
       "      [2, 'win']]]]],\n",
       "  ['if',\n",
       "   ['x', ' ', ' ', ' ', ' ', ' ', ' ', 'o', ' '],\n",
       "   'then',\n",
       "   [1,\n",
       "    [['if',\n",
       "      ['x', 'x', 'o', ' ', ' ', ' ', ' ', 'o', ' '],\n",
       "      'then',\n",
       "      [6,\n",
       "       [['if',\n",
       "         ['x', 'x', 'o', 'o', ' ', ' ', 'x', 'o', ' '],\n",
       "         'then',\n",
       "         [4,\n",
       "          [['if',\n",
       "            ['x', 'x', 'o', 'o', 'x', 'o', 'x', 'o', ' '],\n",
       "            'then',\n",
       "            [8, 'win']],\n",
       "           ['if',\n",
       "            ['x', 'x', 'o', 'o', 'x', ' ', 'x', 'o', 'o'],\n",
       "            'then',\n",
       "            [5, 'draw']]]]],\n",
       "        ['if',\n",
       "         ['x', 'x', 'o', ' ', 'o', ' ', 'x', 'o', ' '],\n",
       "         'then',\n",
       "         [3, 'win']],\n",
       "        ['if',\n",
       "         ['x', 'x', 'o', ' ', ' ', 'o', 'x', 'o', ' '],\n",
       "         'then',\n",
       "         [3, 'win']],\n",
       "        ['if',\n",
       "         ['x', 'x', 'o', ' ', ' ', ' ', 'x', 'o', 'o'],\n",
       "         'then',\n",
       "         [3, 'win']]]]],\n",
       "     ['if', ['x', 'x', ' ', 'o', ' ', ' ', ' ', 'o', ' '], 'then', [2, 'win']],\n",
       "     ['if', ['x', 'x', ' ', ' ', 'o', ' ', ' ', 'o', ' '], 'then', [2, 'win']],\n",
       "     ['if', ['x', 'x', ' ', ' ', ' ', 'o', ' ', 'o', ' '], 'then', [2, 'win']],\n",
       "     ['if', ['x', 'x', ' ', ' ', ' ', ' ', 'o', 'o', ' '], 'then', [2, 'win']],\n",
       "     ['if',\n",
       "      ['x', 'x', ' ', ' ', ' ', ' ', ' ', 'o', 'o'],\n",
       "      'then',\n",
       "      [2, 'win']]]]],\n",
       "  ['if',\n",
       "   ['x', ' ', ' ', ' ', ' ', ' ', ' ', ' ', 'o'],\n",
       "   'then',\n",
       "   [2,\n",
       "    [['if',\n",
       "      ['x', 'o', 'x', ' ', ' ', ' ', ' ', ' ', 'o'],\n",
       "      'then',\n",
       "      [3,\n",
       "       [['if',\n",
       "         ['x', 'o', 'x', 'x', 'o', ' ', ' ', ' ', 'o'],\n",
       "         'then',\n",
       "         [6, 'win']],\n",
       "        ['if',\n",
       "         ['x', 'o', 'x', 'x', ' ', 'o', ' ', ' ', 'o'],\n",
       "         'then',\n",
       "         [4,\n",
       "          [['if',\n",
       "            ['x', 'o', 'x', 'x', 'x', 'o', 'o', ' ', 'o'],\n",
       "            'then',\n",
       "            [7, 'draw']],\n",
       "           ['if',\n",
       "            ['x', 'o', 'x', 'x', 'x', 'o', ' ', 'o', 'o'],\n",
       "            'then',\n",
       "            [6, 'win']]]]],\n",
       "        ['if',\n",
       "         ['x', 'o', 'x', 'x', ' ', ' ', 'o', ' ', 'o'],\n",
       "         'then',\n",
       "         [7,\n",
       "          [['if',\n",
       "            ['x', 'o', 'x', 'x', 'o', ' ', 'o', 'x', 'o'],\n",
       "            'then',\n",
       "            [5, 'draw']],\n",
       "           ['if',\n",
       "            ['x', 'o', 'x', 'x', ' ', 'o', 'o', 'x', 'o'],\n",
       "            'then',\n",
       "            [4, 'draw']]]]],\n",
       "        ['if',\n",
       "         ['x', 'o', 'x', 'x', ' ', ' ', ' ', 'o', 'o'],\n",
       "         'then',\n",
       "         [6, 'win']]]]],\n",
       "     ['if', ['x', ' ', 'x', 'o', ' ', ' ', ' ', ' ', 'o'], 'then', [1, 'win']],\n",
       "     ['if', ['x', ' ', 'x', ' ', 'o', ' ', ' ', ' ', 'o'], 'then', [1, 'win']],\n",
       "     ['if', ['x', ' ', 'x', ' ', ' ', 'o', ' ', ' ', 'o'], 'then', [1, 'win']],\n",
       "     ['if', ['x', ' ', 'x', ' ', ' ', ' ', 'o', ' ', 'o'], 'then', [1, 'win']],\n",
       "     ['if',\n",
       "      ['x', ' ', 'x', ' ', ' ', ' ', ' ', 'o', 'o'],\n",
       "      'then',\n",
       "      [1, 'win']]]]]]]"
      ]
     },
     "metadata": {},
     "output_type": "display_data"
    },
    {
     "name": "stdout",
     "output_type": "stream",
     "text": [
      "CPU times: user 114 ms, sys: 124 ms, total: 238 ms\n",
      "Wall time: 79.2 ms\n"
     ]
    }
   ],
   "source": [
    "board = empty_board() \n",
    "\n",
    "print(\"Board:\")\n",
    "show_board(board)\n",
    "\n",
    "print()\n",
    "print(\"Win or draw:\")\n",
    "%time display(and_or_search(board, player = 'x', draw_is_win = True))"
   ]
  },
  {
   "cell_type": "code",
   "execution_count": 28,
   "metadata": {},
   "outputs": [
    {
     "name": "stdout",
     "output_type": "stream",
     "text": [
      "Win only:\n"
     ]
    },
    {
     "name": "stdout",
     "output_type": "stream",
     "text": [
      "Number of nodes searched: 13023\n"
     ]
    },
    {
     "data": {
      "text/plain": [
       "None"
      ]
     },
     "metadata": {},
     "output_type": "display_data"
    },
    {
     "name": "stdout",
     "output_type": "stream",
     "text": [
      "CPU times: user 325 ms, sys: 44.1 ms, total: 369 ms\n",
      "Wall time: 297 ms\n"
     ]
    }
   ],
   "source": [
    "print(\"Win only:\")\n",
    "%time display(and_or_search(board, player = 'x', draw_is_win = False))"
   ]
  },
  {
   "cell_type": "markdown",
   "metadata": {},
   "source": [
    "## Experiments\n",
    "\n",
    "\n",
    "### Baseline: Randomized Player\n",
    "\n",
    "A completely randomized player agent can be used as a weak baseline."
   ]
  },
  {
   "cell_type": "code",
   "execution_count": 29,
   "metadata": {},
   "outputs": [
    {
     "data": {
      "image/png": "[encoded data removed]",
      "text/plain": [
       "<Figure size 192x192 with 1 Axes>"
      ]
     },
     "metadata": {
      "image/png": {
       "height": 156,
       "width": 156
      }
     },
     "output_type": "display_data"
    },
    {
     "name": "stdout",
     "output_type": "stream",
     "text": [
      "CPU times: user 320 µs, sys: 227 µs, total: 547 µs\n",
      "Wall time: 187 µs\n"
     ]
    },
    {
     "data": {
      "text/plain": [
       "5"
      ]
     },
     "execution_count": 29,
     "metadata": {},
     "output_type": "execute_result"
    }
   ],
   "source": [
    "def random_player(board, player = None):\n",
    "    \"\"\"Simple player that chooses a random empy square (equal probability of all permissible actions). \n",
    "    player is unused.\"\"\"\n",
    "    return np.random.choice(actions(board))\n",
    "\n",
    "show_board(board)\n",
    "%time random_player(board)"
   ]
  },
  {
   "cell_type": "markdown",
   "metadata": {},
   "source": [
    "### The Environment\n",
    "\n",
    "Implement the environment that calls the agent. The percept is the board and the action is move."
   ]
  },
  {
   "cell_type": "code",
   "execution_count": 30,
   "metadata": {},
   "outputs": [],
   "source": [
    "def switch_player(player, x, o):\n",
    "    if player == 'x':\n",
    "        return 'o', o\n",
    "    else:\n",
    "        return 'x', x\n",
    "\n",
    "def play(x, o, N = 100):\n",
    "    \"\"\"Let two agents play each other N times. x starts. x and y are agent functions that \n",
    "    get the board as the percept and return their next action.\"\"\"\n",
    "    results = {'x': 0, 'o': 0, 'd': 0}\n",
    "    \n",
    "    for i in range(N):\n",
    "        board = empty_board()\n",
    "        player, fun = 'x', x\n",
    "        \n",
    "        while True:\n",
    "            a = fun(board, player)\n",
    "            board = result(board, player, a)\n",
    "            \n",
    "            win = check_board(board)   # returns the 'n' if the game is not done.\n",
    "            if win != 'n':\n",
    "                results[win] += 1\n",
    "                break\n",
    "            \n",
    "            player, fun = switch_player(player, x, o)   \n",
    "    \n",
    "    return results"
   ]
  },
  {
   "cell_type": "markdown",
   "metadata": {},
   "source": [
    "### Random vs. Random"
   ]
  },
  {
   "cell_type": "code",
   "execution_count": 31,
   "metadata": {},
   "outputs": [
    {
     "data": {
      "text/plain": [
       "{'x': 52, 'o': 29, 'd': 19}"
      ]
     },
     "metadata": {},
     "output_type": "display_data"
    },
    {
     "name": "stdout",
     "output_type": "stream",
     "text": [
      "CPU times: user 55.3 ms, sys: 63.6 ms, total: 119 ms\n",
      "Wall time: 39 ms\n"
     ]
    }
   ],
   "source": [
    "# timeit: n ... how many times to execute the statement, \n",
    "#         r ... how many times to repeat the timer (default 5)\n",
    "\n",
    "%time display(play(random_player, random_player, N = 100))"
   ]
  },
  {
   "cell_type": "markdown",
   "metadata": {},
   "source": [
    "_Note:_ It looks like the first player (x) has an advantage!"
   ]
  },
  {
   "cell_type": "markdown",
   "metadata": {},
   "source": [
    "### And-Or Tree Search vs. Random\n",
    "\n",
    "Put AND-OR search into a wrapper agent function. Note that if AND-OR search cannot guarantee a win then\n",
    "it does not return a plan, nut `None`. In this case, we do not know what the best (i.e., the least \"bad\") \n",
    "move is, so I make the agent play randomly. Other methods that we will learn about later can determine the utility of a move, even if it does not guarantee a win."
   ]
  },
  {
   "cell_type": "code",
   "execution_count": 32,
   "metadata": {},
   "outputs": [
    {
     "name": "stdout",
     "output_type": "stream",
     "text": [
      "and-or-search vs. random:\n"
     ]
    },
    {
     "data": {
      "text/plain": [
       "{'x': 90, 'o': 0, 'd': 10}"
      ]
     },
     "metadata": {},
     "output_type": "display_data"
    },
    {
     "name": "stdout",
     "output_type": "stream",
     "text": [
      "CPU times: user 2.18 s, sys: 84.3 ms, total: 2.26 s\n",
      "Wall time: 2.15 s\n",
      "\n",
      "random vs. and-or-search\n"
     ]
    },
    {
     "data": {
      "text/plain": [
       "{'x': 0, 'o': 69, 'd': 31}"
      ]
     },
     "metadata": {},
     "output_type": "display_data"
    },
    {
     "name": "stdout",
     "output_type": "stream",
     "text": [
      "CPU times: user 3.09 s, sys: 0 ns, total: 3.09 s\n",
      "Wall time: 3.09 s\n"
     ]
    }
   ],
   "source": [
    "DEBUG = 0\n",
    "\n",
    "def and_or_player(board, player = 'x'):\n",
    "    plan = and_or_search(board, player)\n",
    "\n",
    "    # if there is no plan then we do a random action\n",
    "    if plan is None: \n",
    "        return np.random.choice(actions(board))\n",
    "    else:\n",
    "        return plan[0]\n",
    "\n",
    "\n",
    "\n",
    "print(\"and-or-search vs. random:\")\n",
    "%time display(play(and_or_player, random_player))\n",
    "\n",
    "print()\n",
    "print(\"random vs. and-or-search\")\n",
    "%time display(play(random_player, and_or_player))"
   ]
  },
  {
   "cell_type": "markdown",
   "metadata": {},
   "source": [
    "**Note how slow this is!**\n",
    "\n",
    "My lazy implementation is a _simple reflex agent_ that recreates a conditional plan every time it is asked for an action. ut since And-Or search already produces a complete conditional plan for the empty board, a better implementation would use a _model-based reflex agent_ that store this precomputed plan and just follow it without more planing."
   ]
  },
  {
   "cell_type": "markdown",
   "metadata": {},
   "source": [
    "### And-Or Tree Search vs. And-Or Tree Search"
   ]
  },
  {
   "cell_type": "code",
   "execution_count": 33,
   "metadata": {
    "tags": []
   },
   "outputs": [
    {
     "data": {
      "text/plain": [
       "{'x': 0, 'o': 0, 'd': 1}"
      ]
     },
     "metadata": {},
     "output_type": "display_data"
    },
    {
     "name": "stdout",
     "output_type": "stream",
     "text": [
      "CPU times: user 48.6 ms, sys: 0 ns, total: 48.6 ms\n",
      "Wall time: 47.9 ms\n"
     ]
    }
   ],
   "source": [
    "# No randomness -> run only once\n",
    "\n",
    "%time display(play(and_or_player, and_or_player, N = 1))"
   ]
  }
 ],
 "metadata": {
  "kernelspec": {
   "display_name": "Python 3 (ipykernel)",
   "language": "python",
   "name": "python3"
  },
  "language_info": {
   "codemirror_mode": {
    "name": "ipython",
    "version": 3
   },
   "file_extension": ".py",
   "mimetype": "text/x-python",
   "name": "python",
   "nbconvert_exporter": "python",
   "pygments_lexer": "ipython3",
   "version": "3.10.12"
  }
 },
 "nbformat": 4,
 "nbformat_minor": 4
}
